{
 "cells": [
  {
   "cell_type": "markdown",
   "metadata": {},
   "source": [
    "# Import APIs"
   ]
  },
  {
   "cell_type": "code",
   "execution_count": 1,
   "metadata": {},
   "outputs": [],
   "source": [
    "import pandas as pd\n",
    "import numpy as np\n",
    "from matplotlib import pyplot as plt\n",
    "import seaborn as sns\n",
    "import sklearn\n",
    "import random\n",
    "import warnings\n",
    "import time\n",
    "warnings.filterwarnings(\"ignore\")"
   ]
  },
  {
   "cell_type": "code",
   "execution_count": 2,
   "metadata": {},
   "outputs": [],
   "source": [
    "from sklearn.feature_extraction.text import _VectorizerMixin\n",
    "from sklearn.feature_selection._base import SelectorMixin\n",
    "from sklearn.feature_selection import SelectKBest\n",
    "from sklearn.feature_extraction.text import CountVectorizer"
   ]
  },
  {
   "cell_type": "markdown",
   "metadata": {},
   "source": [
    "# Data Preparation"
   ]
  },
  {
   "cell_type": "markdown",
   "metadata": {},
   "source": [
    "Input a data from csv format"
   ]
  },
  {
   "cell_type": "code",
   "execution_count": 3,
   "metadata": {},
   "outputs": [],
   "source": [
    "df = pd.read_csv('bank-tr.csv')\n",
    "df.drop(['Unnamed: 0', 'country', 'town', 'accountID', 'n'],axis=1, inplace = True) #Drop the columns that obviously will be no use"
   ]
  },
  {
   "cell_type": "markdown",
   "metadata": {},
   "source": [
    "Check 10 sample's from data"
   ]
  },
  {
   "cell_type": "code",
   "execution_count": 4,
   "metadata": {},
   "outputs": [
    {
     "data": {
      "text/html": [
       "<div>\n",
       "<style scoped>\n",
       "    .dataframe tbody tr th:only-of-type {\n",
       "        vertical-align: middle;\n",
       "    }\n",
       "\n",
       "    .dataframe tbody tr th {\n",
       "        vertical-align: top;\n",
       "    }\n",
       "\n",
       "    .dataframe thead th {\n",
       "        text-align: right;\n",
       "    }\n",
       "</style>\n",
       "<table border=\"1\" class=\"dataframe\">\n",
       "  <thead>\n",
       "    <tr style=\"text-align: right;\">\n",
       "      <th></th>\n",
       "      <th>age</th>\n",
       "      <th>job</th>\n",
       "      <th>married</th>\n",
       "      <th>education</th>\n",
       "      <th>defaulted?</th>\n",
       "      <th>current_balance</th>\n",
       "      <th>housing</th>\n",
       "      <th>has_loan</th>\n",
       "      <th>last_contact</th>\n",
       "      <th>cc_tr</th>\n",
       "      <th>last_contact_day</th>\n",
       "      <th>last_contact_month</th>\n",
       "      <th>campaign</th>\n",
       "      <th>days_since_last_contact</th>\n",
       "      <th>previous</th>\n",
       "      <th>poutcome</th>\n",
       "      <th>made_deposit</th>\n",
       "    </tr>\n",
       "  </thead>\n",
       "  <tbody>\n",
       "    <tr>\n",
       "      <th>0</th>\n",
       "      <td>39</td>\n",
       "      <td>management</td>\n",
       "      <td>married</td>\n",
       "      <td>tertiary</td>\n",
       "      <td>no</td>\n",
       "      <td>-190</td>\n",
       "      <td>no</td>\n",
       "      <td>yes</td>\n",
       "      <td>unknown</td>\n",
       "      <td>1</td>\n",
       "      <td>11</td>\n",
       "      <td>jun</td>\n",
       "      <td>8</td>\n",
       "      <td>-1</td>\n",
       "      <td>0</td>\n",
       "      <td>unknown</td>\n",
       "      <td>yes</td>\n",
       "    </tr>\n",
       "    <tr>\n",
       "      <th>1</th>\n",
       "      <td>53</td>\n",
       "      <td>housemaid</td>\n",
       "      <td>married</td>\n",
       "      <td>primary</td>\n",
       "      <td>no</td>\n",
       "      <td>362</td>\n",
       "      <td>no</td>\n",
       "      <td>no</td>\n",
       "      <td>cellular</td>\n",
       "      <td>1</td>\n",
       "      <td>28</td>\n",
       "      <td>jul</td>\n",
       "      <td>2</td>\n",
       "      <td>-1</td>\n",
       "      <td>0</td>\n",
       "      <td>unknown</td>\n",
       "      <td>yes</td>\n",
       "    </tr>\n",
       "    <tr>\n",
       "      <th>2</th>\n",
       "      <td>79</td>\n",
       "      <td>retired</td>\n",
       "      <td>divorced</td>\n",
       "      <td>primary</td>\n",
       "      <td>no</td>\n",
       "      <td>2787</td>\n",
       "      <td>no</td>\n",
       "      <td>no</td>\n",
       "      <td>telephone</td>\n",
       "      <td>5</td>\n",
       "      <td>13</td>\n",
       "      <td>jul</td>\n",
       "      <td>1</td>\n",
       "      <td>377</td>\n",
       "      <td>1</td>\n",
       "      <td>success</td>\n",
       "      <td>yes</td>\n",
       "    </tr>\n",
       "    <tr>\n",
       "      <th>3</th>\n",
       "      <td>43</td>\n",
       "      <td>services</td>\n",
       "      <td>single</td>\n",
       "      <td>secondary</td>\n",
       "      <td>no</td>\n",
       "      <td>550</td>\n",
       "      <td>yes</td>\n",
       "      <td>no</td>\n",
       "      <td>cellular</td>\n",
       "      <td>4</td>\n",
       "      <td>13</td>\n",
       "      <td>may</td>\n",
       "      <td>2</td>\n",
       "      <td>-1</td>\n",
       "      <td>0</td>\n",
       "      <td>unknown</td>\n",
       "      <td>no</td>\n",
       "    </tr>\n",
       "    <tr>\n",
       "      <th>4</th>\n",
       "      <td>35</td>\n",
       "      <td>technician</td>\n",
       "      <td>single</td>\n",
       "      <td>secondary</td>\n",
       "      <td>no</td>\n",
       "      <td>344</td>\n",
       "      <td>no</td>\n",
       "      <td>no</td>\n",
       "      <td>cellular</td>\n",
       "      <td>2</td>\n",
       "      <td>27</td>\n",
       "      <td>aug</td>\n",
       "      <td>16</td>\n",
       "      <td>-1</td>\n",
       "      <td>0</td>\n",
       "      <td>unknown</td>\n",
       "      <td>yes</td>\n",
       "    </tr>\n",
       "    <tr>\n",
       "      <th>5</th>\n",
       "      <td>24</td>\n",
       "      <td>student</td>\n",
       "      <td>single</td>\n",
       "      <td>secondary</td>\n",
       "      <td>no</td>\n",
       "      <td>139</td>\n",
       "      <td>no</td>\n",
       "      <td>no</td>\n",
       "      <td>cellular</td>\n",
       "      <td>1</td>\n",
       "      <td>9</td>\n",
       "      <td>sep</td>\n",
       "      <td>4</td>\n",
       "      <td>-1</td>\n",
       "      <td>0</td>\n",
       "      <td>unknown</td>\n",
       "      <td>yes</td>\n",
       "    </tr>\n",
       "    <tr>\n",
       "      <th>6</th>\n",
       "      <td>49</td>\n",
       "      <td>blue-collar</td>\n",
       "      <td>divorced</td>\n",
       "      <td>primary</td>\n",
       "      <td>no</td>\n",
       "      <td>24</td>\n",
       "      <td>yes</td>\n",
       "      <td>no</td>\n",
       "      <td>cellular</td>\n",
       "      <td>5</td>\n",
       "      <td>11</td>\n",
       "      <td>may</td>\n",
       "      <td>1</td>\n",
       "      <td>362</td>\n",
       "      <td>1</td>\n",
       "      <td>success</td>\n",
       "      <td>yes</td>\n",
       "    </tr>\n",
       "    <tr>\n",
       "      <th>7</th>\n",
       "      <td>54</td>\n",
       "      <td>self-employed</td>\n",
       "      <td>single</td>\n",
       "      <td>tertiary</td>\n",
       "      <td>no</td>\n",
       "      <td>384</td>\n",
       "      <td>no</td>\n",
       "      <td>yes</td>\n",
       "      <td>cellular</td>\n",
       "      <td>4</td>\n",
       "      <td>27</td>\n",
       "      <td>may</td>\n",
       "      <td>1</td>\n",
       "      <td>-1</td>\n",
       "      <td>0</td>\n",
       "      <td>unknown</td>\n",
       "      <td>yes</td>\n",
       "    </tr>\n",
       "    <tr>\n",
       "      <th>8</th>\n",
       "      <td>29</td>\n",
       "      <td>services</td>\n",
       "      <td>married</td>\n",
       "      <td>primary</td>\n",
       "      <td>no</td>\n",
       "      <td>-102</td>\n",
       "      <td>no</td>\n",
       "      <td>no</td>\n",
       "      <td>unknown</td>\n",
       "      <td>4</td>\n",
       "      <td>4</td>\n",
       "      <td>jul</td>\n",
       "      <td>1</td>\n",
       "      <td>-1</td>\n",
       "      <td>0</td>\n",
       "      <td>unknown</td>\n",
       "      <td>no</td>\n",
       "    </tr>\n",
       "    <tr>\n",
       "      <th>9</th>\n",
       "      <td>56</td>\n",
       "      <td>blue-collar</td>\n",
       "      <td>single</td>\n",
       "      <td>secondary</td>\n",
       "      <td>no</td>\n",
       "      <td>1187</td>\n",
       "      <td>yes</td>\n",
       "      <td>no</td>\n",
       "      <td>cellular</td>\n",
       "      <td>2</td>\n",
       "      <td>5</td>\n",
       "      <td>feb</td>\n",
       "      <td>2</td>\n",
       "      <td>-1</td>\n",
       "      <td>0</td>\n",
       "      <td>unknown</td>\n",
       "      <td>no</td>\n",
       "    </tr>\n",
       "  </tbody>\n",
       "</table>\n",
       "</div>"
      ],
      "text/plain": [
       "   age            job   married  education defaulted?  current_balance  \\\n",
       "0   39     management   married   tertiary         no             -190   \n",
       "1   53      housemaid   married    primary         no              362   \n",
       "2   79        retired  divorced    primary         no             2787   \n",
       "3   43       services    single  secondary         no              550   \n",
       "4   35     technician    single  secondary         no              344   \n",
       "5   24        student    single  secondary         no              139   \n",
       "6   49    blue-collar  divorced    primary         no               24   \n",
       "7   54  self-employed    single   tertiary         no              384   \n",
       "8   29       services   married    primary         no             -102   \n",
       "9   56    blue-collar    single  secondary         no             1187   \n",
       "\n",
       "  housing has_loan last_contact  cc_tr  last_contact_day last_contact_month  \\\n",
       "0      no      yes      unknown      1                11                jun   \n",
       "1      no       no     cellular      1                28                jul   \n",
       "2      no       no    telephone      5                13                jul   \n",
       "3     yes       no     cellular      4                13                may   \n",
       "4      no       no     cellular      2                27                aug   \n",
       "5      no       no     cellular      1                 9                sep   \n",
       "6     yes       no     cellular      5                11                may   \n",
       "7      no      yes     cellular      4                27                may   \n",
       "8      no       no      unknown      4                 4                jul   \n",
       "9     yes       no     cellular      2                 5                feb   \n",
       "\n",
       "   campaign  days_since_last_contact  previous poutcome made_deposit  \n",
       "0         8                       -1         0  unknown          yes  \n",
       "1         2                       -1         0  unknown          yes  \n",
       "2         1                      377         1  success          yes  \n",
       "3         2                       -1         0  unknown           no  \n",
       "4        16                       -1         0  unknown          yes  \n",
       "5         4                       -1         0  unknown          yes  \n",
       "6         1                      362         1  success          yes  \n",
       "7         1                       -1         0  unknown          yes  \n",
       "8         1                       -1         0  unknown           no  \n",
       "9         2                       -1         0  unknown           no  "
      ]
     },
     "execution_count": 4,
     "metadata": {},
     "output_type": "execute_result"
    }
   ],
   "source": [
    "df.head(10)"
   ]
  },
  {
   "cell_type": "markdown",
   "metadata": {},
   "source": [
    "Check for Null values"
   ]
  },
  {
   "cell_type": "code",
   "execution_count": 5,
   "metadata": {
    "scrolled": true
   },
   "outputs": [
    {
     "name": "stdout",
     "output_type": "stream",
     "text": [
      "<class 'pandas.core.frame.DataFrame'>\n",
      "RangeIndex: 8000 entries, 0 to 7999\n",
      "Data columns (total 17 columns):\n",
      " #   Column                   Non-Null Count  Dtype \n",
      "---  ------                   --------------  ----- \n",
      " 0   age                      8000 non-null   int64 \n",
      " 1   job                      8000 non-null   object\n",
      " 2   married                  8000 non-null   object\n",
      " 3   education                8000 non-null   object\n",
      " 4   defaulted?               8000 non-null   object\n",
      " 5   current_balance          8000 non-null   int64 \n",
      " 6   housing                  8000 non-null   object\n",
      " 7   has_loan                 8000 non-null   object\n",
      " 8   last_contact             8000 non-null   object\n",
      " 9   cc_tr                    8000 non-null   int64 \n",
      " 10  last_contact_day         8000 non-null   int64 \n",
      " 11  last_contact_month       8000 non-null   object\n",
      " 12  campaign                 8000 non-null   int64 \n",
      " 13  days_since_last_contact  8000 non-null   int64 \n",
      " 14  previous                 8000 non-null   int64 \n",
      " 15  poutcome                 8000 non-null   object\n",
      " 16  made_deposit             8000 non-null   object\n",
      "dtypes: int64(7), object(10)\n",
      "memory usage: 1.0+ MB\n"
     ]
    }
   ],
   "source": [
    "df.info()"
   ]
  },
  {
   "cell_type": "markdown",
   "metadata": {},
   "source": [
    "There are no null values. Now, check the target classes."
   ]
  },
  {
   "cell_type": "code",
   "execution_count": 6,
   "metadata": {},
   "outputs": [
    {
     "data": {
      "text/plain": [
       "no     4172\n",
       "yes    3828\n",
       "Name: made_deposit, dtype: int64"
      ]
     },
     "execution_count": 6,
     "metadata": {},
     "output_type": "execute_result"
    }
   ],
   "source": [
    "df.made_deposit.value_counts()"
   ]
  },
  {
   "cell_type": "markdown",
   "metadata": {},
   "source": [
    "Out of 8000 customers, there are 4172 who don't make deposit. Check the values for categorical columns"
   ]
  },
  {
   "cell_type": "code",
   "execution_count": 7,
   "metadata": {
    "scrolled": true
   },
   "outputs": [
    {
     "data": {
      "text/plain": [
       "{'job': ['management',\n",
       "  'housemaid',\n",
       "  'retired',\n",
       "  'services',\n",
       "  'technician',\n",
       "  'student',\n",
       "  'blue-collar',\n",
       "  'self-employed',\n",
       "  'admin.',\n",
       "  'unemployed',\n",
       "  'entrepreneur',\n",
       "  'unknown'],\n",
       " 'married': ['married', 'divorced', 'single'],\n",
       " 'education': ['tertiary', 'primary', 'secondary', 'unknown'],\n",
       " 'defaulted?': ['no', 'yes'],\n",
       " 'housing': ['no', 'yes'],\n",
       " 'has_loan': ['yes', 'no', 'n'],\n",
       " 'last_contact': ['unknown', 'cellular', 'telephone', 'cell'],\n",
       " 'last_contact_month': ['jun',\n",
       "  'jul',\n",
       "  'may',\n",
       "  'aug',\n",
       "  'sep',\n",
       "  'feb',\n",
       "  'nov',\n",
       "  'mar',\n",
       "  'jan',\n",
       "  'apr',\n",
       "  'dec',\n",
       "  'oct',\n",
       "  'j'],\n",
       " 'poutcome': ['unknown', 'success', 'other', 'failure'],\n",
       " 'made_deposit': ['yes', 'no']}"
      ]
     },
     "execution_count": 7,
     "metadata": {},
     "output_type": "execute_result"
    }
   ],
   "source": [
    "categorical_col = df.select_dtypes(exclude=np.number).columns\n",
    "categorical_unique = []\n",
    "\n",
    "for i in categorical_col:\n",
    "    #col = i\n",
    "    categorical_unique.append(df[i].unique().tolist())\n",
    "    \n",
    "dict_unique = dict(zip(categorical_col, categorical_unique))\n",
    "dict_unique"
   ]
  },
  {
   "cell_type": "markdown",
   "metadata": {},
   "source": [
    "There are 3 columns that contain irregular values. Column 'has_loan' has 'n', column 'last_contact' has 'cell', and column 'last_contact_month' has 'j'. We are going to replace them with code below"
   ]
  },
  {
   "cell_type": "code",
   "execution_count": 8,
   "metadata": {},
   "outputs": [],
   "source": [
    "df[\"has_loan\"].replace({\"n\": \"no\"}, inplace=True)\n",
    "df[\"last_contact\"].replace({\"cell\": \"cellular\"}, inplace=True)\n",
    "df[\"last_contact_month\"].replace({\"j\": \"jun\"}, inplace=True)"
   ]
  },
  {
   "cell_type": "markdown",
   "metadata": {},
   "source": [
    "Now we check the properties for the numerical variables"
   ]
  },
  {
   "cell_type": "code",
   "execution_count": 9,
   "metadata": {
    "scrolled": true
   },
   "outputs": [
    {
     "data": {
      "text/html": [
       "<div>\n",
       "<style scoped>\n",
       "    .dataframe tbody tr th:only-of-type {\n",
       "        vertical-align: middle;\n",
       "    }\n",
       "\n",
       "    .dataframe tbody tr th {\n",
       "        vertical-align: top;\n",
       "    }\n",
       "\n",
       "    .dataframe thead th {\n",
       "        text-align: right;\n",
       "    }\n",
       "</style>\n",
       "<table border=\"1\" class=\"dataframe\">\n",
       "  <thead>\n",
       "    <tr style=\"text-align: right;\">\n",
       "      <th></th>\n",
       "      <th>age</th>\n",
       "      <th>current_balance</th>\n",
       "      <th>cc_tr</th>\n",
       "      <th>last_contact_day</th>\n",
       "      <th>campaign</th>\n",
       "      <th>days_since_last_contact</th>\n",
       "      <th>previous</th>\n",
       "    </tr>\n",
       "  </thead>\n",
       "  <tbody>\n",
       "    <tr>\n",
       "      <th>count</th>\n",
       "      <td>8000.000000</td>\n",
       "      <td>8000.000000</td>\n",
       "      <td>8000.000000</td>\n",
       "      <td>8000.00000</td>\n",
       "      <td>8000.000000</td>\n",
       "      <td>8000.000000</td>\n",
       "      <td>8000.000000</td>\n",
       "    </tr>\n",
       "    <tr>\n",
       "      <th>mean</th>\n",
       "      <td>41.211750</td>\n",
       "      <td>1516.520500</td>\n",
       "      <td>3.011250</td>\n",
       "      <td>15.70875</td>\n",
       "      <td>2.497125</td>\n",
       "      <td>51.573375</td>\n",
       "      <td>0.840375</td>\n",
       "    </tr>\n",
       "    <tr>\n",
       "      <th>std</th>\n",
       "      <td>11.972545</td>\n",
       "      <td>3168.517624</td>\n",
       "      <td>1.419903</td>\n",
       "      <td>8.43299</td>\n",
       "      <td>2.770145</td>\n",
       "      <td>109.155207</td>\n",
       "      <td>2.371307</td>\n",
       "    </tr>\n",
       "    <tr>\n",
       "      <th>min</th>\n",
       "      <td>18.000000</td>\n",
       "      <td>-3058.000000</td>\n",
       "      <td>1.000000</td>\n",
       "      <td>1.00000</td>\n",
       "      <td>1.000000</td>\n",
       "      <td>-1.000000</td>\n",
       "      <td>0.000000</td>\n",
       "    </tr>\n",
       "    <tr>\n",
       "      <th>25%</th>\n",
       "      <td>32.000000</td>\n",
       "      <td>120.000000</td>\n",
       "      <td>2.000000</td>\n",
       "      <td>8.00000</td>\n",
       "      <td>1.000000</td>\n",
       "      <td>-1.000000</td>\n",
       "      <td>0.000000</td>\n",
       "    </tr>\n",
       "    <tr>\n",
       "      <th>50%</th>\n",
       "      <td>39.000000</td>\n",
       "      <td>545.500000</td>\n",
       "      <td>3.000000</td>\n",
       "      <td>15.00000</td>\n",
       "      <td>2.000000</td>\n",
       "      <td>-1.000000</td>\n",
       "      <td>0.000000</td>\n",
       "    </tr>\n",
       "    <tr>\n",
       "      <th>75%</th>\n",
       "      <td>49.000000</td>\n",
       "      <td>1694.000000</td>\n",
       "      <td>4.000000</td>\n",
       "      <td>22.00000</td>\n",
       "      <td>3.000000</td>\n",
       "      <td>33.250000</td>\n",
       "      <td>1.000000</td>\n",
       "    </tr>\n",
       "    <tr>\n",
       "      <th>max</th>\n",
       "      <td>93.000000</td>\n",
       "      <td>81204.000000</td>\n",
       "      <td>5.000000</td>\n",
       "      <td>31.00000</td>\n",
       "      <td>63.000000</td>\n",
       "      <td>854.000000</td>\n",
       "      <td>58.000000</td>\n",
       "    </tr>\n",
       "  </tbody>\n",
       "</table>\n",
       "</div>"
      ],
      "text/plain": [
       "               age  current_balance        cc_tr  last_contact_day  \\\n",
       "count  8000.000000      8000.000000  8000.000000        8000.00000   \n",
       "mean     41.211750      1516.520500     3.011250          15.70875   \n",
       "std      11.972545      3168.517624     1.419903           8.43299   \n",
       "min      18.000000     -3058.000000     1.000000           1.00000   \n",
       "25%      32.000000       120.000000     2.000000           8.00000   \n",
       "50%      39.000000       545.500000     3.000000          15.00000   \n",
       "75%      49.000000      1694.000000     4.000000          22.00000   \n",
       "max      93.000000     81204.000000     5.000000          31.00000   \n",
       "\n",
       "          campaign  days_since_last_contact     previous  \n",
       "count  8000.000000              8000.000000  8000.000000  \n",
       "mean      2.497125                51.573375     0.840375  \n",
       "std       2.770145               109.155207     2.371307  \n",
       "min       1.000000                -1.000000     0.000000  \n",
       "25%       1.000000                -1.000000     0.000000  \n",
       "50%       2.000000                -1.000000     0.000000  \n",
       "75%       3.000000                33.250000     1.000000  \n",
       "max      63.000000               854.000000    58.000000  "
      ]
     },
     "execution_count": 9,
     "metadata": {},
     "output_type": "execute_result"
    }
   ],
   "source": [
    "df.describe()"
   ]
  },
  {
   "cell_type": "markdown",
   "metadata": {},
   "source": [
    "# Exploratory Data Analysis"
   ]
  },
  {
   "cell_type": "markdown",
   "metadata": {},
   "source": [
    "Now we examine the data."
   ]
  },
  {
   "cell_type": "markdown",
   "metadata": {},
   "source": [
    "Create a function that produces a statistical summary for one column in data, given a condition."
   ]
  },
  {
   "cell_type": "code",
   "execution_count": 10,
   "metadata": {},
   "outputs": [],
   "source": [
    "def described(dataframe, chosen_column, condition_column, condition_value):\n",
    "    #col = str(condition_column)\n",
    "    #show = str(chosen_column)\n",
    "    data = dataframe[df[condition_column]==condition_value]\n",
    "    return data[[chosen_column]].describe()"
   ]
  },
  {
   "cell_type": "markdown",
   "metadata": {},
   "source": [
    "Examine the current balance for customers who deposit and do not deposit."
   ]
  },
  {
   "cell_type": "code",
   "execution_count": 11,
   "metadata": {},
   "outputs": [
    {
     "data": {
      "text/html": [
       "<div>\n",
       "<style scoped>\n",
       "    .dataframe tbody tr th:only-of-type {\n",
       "        vertical-align: middle;\n",
       "    }\n",
       "\n",
       "    .dataframe tbody tr th {\n",
       "        vertical-align: top;\n",
       "    }\n",
       "\n",
       "    .dataframe thead th {\n",
       "        text-align: right;\n",
       "    }\n",
       "</style>\n",
       "<table border=\"1\" class=\"dataframe\">\n",
       "  <thead>\n",
       "    <tr style=\"text-align: right;\">\n",
       "      <th></th>\n",
       "      <th>current_balance</th>\n",
       "    </tr>\n",
       "  </thead>\n",
       "  <tbody>\n",
       "    <tr>\n",
       "      <th>count</th>\n",
       "      <td>3828.000000</td>\n",
       "    </tr>\n",
       "    <tr>\n",
       "      <th>mean</th>\n",
       "      <td>1773.295716</td>\n",
       "    </tr>\n",
       "    <tr>\n",
       "      <th>std</th>\n",
       "      <td>3336.610690</td>\n",
       "    </tr>\n",
       "    <tr>\n",
       "      <th>min</th>\n",
       "      <td>-3058.000000</td>\n",
       "    </tr>\n",
       "    <tr>\n",
       "      <th>25%</th>\n",
       "      <td>222.000000</td>\n",
       "    </tr>\n",
       "    <tr>\n",
       "      <th>50%</th>\n",
       "      <td>728.000000</td>\n",
       "    </tr>\n",
       "    <tr>\n",
       "      <th>75%</th>\n",
       "      <td>2144.000000</td>\n",
       "    </tr>\n",
       "    <tr>\n",
       "      <th>max</th>\n",
       "      <td>81204.000000</td>\n",
       "    </tr>\n",
       "  </tbody>\n",
       "</table>\n",
       "</div>"
      ],
      "text/plain": [
       "       current_balance\n",
       "count      3828.000000\n",
       "mean       1773.295716\n",
       "std        3336.610690\n",
       "min       -3058.000000\n",
       "25%         222.000000\n",
       "50%         728.000000\n",
       "75%        2144.000000\n",
       "max       81204.000000"
      ]
     },
     "execution_count": 11,
     "metadata": {},
     "output_type": "execute_result"
    }
   ],
   "source": [
    "described(df, 'current_balance', 'made_deposit', 'yes')"
   ]
  },
  {
   "cell_type": "code",
   "execution_count": 12,
   "metadata": {},
   "outputs": [
    {
     "data": {
      "text/html": [
       "<div>\n",
       "<style scoped>\n",
       "    .dataframe tbody tr th:only-of-type {\n",
       "        vertical-align: middle;\n",
       "    }\n",
       "\n",
       "    .dataframe tbody tr th {\n",
       "        vertical-align: top;\n",
       "    }\n",
       "\n",
       "    .dataframe thead th {\n",
       "        text-align: right;\n",
       "    }\n",
       "</style>\n",
       "<table border=\"1\" class=\"dataframe\">\n",
       "  <thead>\n",
       "    <tr style=\"text-align: right;\">\n",
       "      <th></th>\n",
       "      <th>current_balance</th>\n",
       "    </tr>\n",
       "  </thead>\n",
       "  <tbody>\n",
       "    <tr>\n",
       "      <th>count</th>\n",
       "      <td>4172.000000</td>\n",
       "    </tr>\n",
       "    <tr>\n",
       "      <th>mean</th>\n",
       "      <td>1280.917546</td>\n",
       "    </tr>\n",
       "    <tr>\n",
       "      <th>std</th>\n",
       "      <td>2987.071011</td>\n",
       "    </tr>\n",
       "    <tr>\n",
       "      <th>min</th>\n",
       "      <td>-2712.000000</td>\n",
       "    </tr>\n",
       "    <tr>\n",
       "      <th>25%</th>\n",
       "      <td>57.000000</td>\n",
       "    </tr>\n",
       "    <tr>\n",
       "      <th>50%</th>\n",
       "      <td>402.000000</td>\n",
       "    </tr>\n",
       "    <tr>\n",
       "      <th>75%</th>\n",
       "      <td>1310.000000</td>\n",
       "    </tr>\n",
       "    <tr>\n",
       "      <th>max</th>\n",
       "      <td>56831.000000</td>\n",
       "    </tr>\n",
       "  </tbody>\n",
       "</table>\n",
       "</div>"
      ],
      "text/plain": [
       "       current_balance\n",
       "count      4172.000000\n",
       "mean       1280.917546\n",
       "std        2987.071011\n",
       "min       -2712.000000\n",
       "25%          57.000000\n",
       "50%         402.000000\n",
       "75%        1310.000000\n",
       "max       56831.000000"
      ]
     },
     "execution_count": 12,
     "metadata": {},
     "output_type": "execute_result"
    }
   ],
   "source": [
    "described(df, 'current_balance', 'made_deposit', 'no')"
   ]
  },
  {
   "cell_type": "markdown",
   "metadata": {},
   "source": [
    "We can see that the mean and median of current_balance for customers who deposit are higher compared to those for customers who do not deposit. Now, we see the distribution of the value of current_balance under 3000."
   ]
  },
  {
   "cell_type": "code",
   "execution_count": 13,
   "metadata": {},
   "outputs": [
    {
     "data": {
      "image/png": "[encoded data removed]",
      "text/plain": [
       "<Figure size 432x288 with 1 Axes>"
      ]
     },
     "metadata": {
      "needs_background": "light"
     },
     "output_type": "display_data"
    }
   ],
   "source": [
    "sns.boxplot(x = 'made_deposit', y = 'current_balance', data = df[df.current_balance<=3000])\n",
    "plt.show()"
   ]
  },
  {
   "cell_type": "markdown",
   "metadata": {},
   "source": [
    "Now, we examine how customers' education level affect their decision to deposit."
   ]
  },
  {
   "cell_type": "code",
   "execution_count": 14,
   "metadata": {},
   "outputs": [
    {
     "data": {
      "image/png": "[encoded data removed]",
      "text/plain": [
       "<Figure size 432x288 with 1 Axes>"
      ]
     },
     "metadata": {
      "needs_background": "light"
     },
     "output_type": "display_data"
    }
   ],
   "source": [
    "sns.countplot(x = 'education', hue = 'made_deposit', data = df, order = ['unknown', 'primary', 'secondary', 'tertiary'])\n",
    "plt.show()"
   ]
  },
  {
   "cell_type": "markdown",
   "metadata": {},
   "source": [
    "We can see only when people have tertiary education, the number who deposits outnumber those who don't.\n",
    "Now, we see how age correlates with the decision of making deposit."
   ]
  },
  {
   "cell_type": "code",
   "execution_count": 15,
   "metadata": {},
   "outputs": [
    {
     "data": {
      "image/png": "[encoded data removed]",
      "text/plain": [
       "<Figure size 432x288 with 1 Axes>"
      ]
     },
     "metadata": {
      "needs_background": "light"
     },
     "output_type": "display_data"
    }
   ],
   "source": [
    "sns.boxplot(x = 'made_deposit', y = 'age', data = df)\n",
    "plt.show()"
   ]
  },
  {
   "cell_type": "markdown",
   "metadata": {},
   "source": [
    "There are no noticeable difference in age between those make deposit and those who don't.\n",
    "Now, take a look on how"
   ]
  },
  {
   "cell_type": "code",
   "execution_count": 16,
   "metadata": {
    "scrolled": true
   },
   "outputs": [
    {
     "data": {
      "image/png": "[encoded data removed]",
      "text/plain": [
       "<Figure size 432x288 with 1 Axes>"
      ]
     },
     "metadata": {
      "needs_background": "light"
     },
     "output_type": "display_data"
    }
   ],
   "source": [
    "sns.scatterplot(x = 'previous', y = 'campaign', \n",
    "                data = df,\n",
    "                hue = 'made_deposit')\n",
    "plt.show()"
   ]
  },
  {
   "cell_type": "markdown",
   "metadata": {},
   "source": [
    "Now, we create a dummy version of the dataset, to see whether each value on categorical variables has significance on customers' decision to deposit."
   ]
  },
  {
   "cell_type": "code",
   "execution_count": 17,
   "metadata": {},
   "outputs": [],
   "source": [
    "df_dum = pd.get_dummies(df)"
   ]
  },
  {
   "cell_type": "code",
   "execution_count": 18,
   "metadata": {},
   "outputs": [],
   "source": [
    "df_dum.drop(['defaulted?_no', 'housing_no', 'has_loan_no', 'made_deposit_no', 'cc_tr'], axis = 1, inplace = True)"
   ]
  },
  {
   "cell_type": "markdown",
   "metadata": {},
   "source": [
    "Let's see how each variables and categorical values correlate to the customers' decision on making deposit."
   ]
  },
  {
   "cell_type": "code",
   "execution_count": 19,
   "metadata": {
    "scrolled": true
   },
   "outputs": [
    {
     "data": {
      "text/html": [
       "<div>\n",
       "<style scoped>\n",
       "    .dataframe tbody tr th:only-of-type {\n",
       "        vertical-align: middle;\n",
       "    }\n",
       "\n",
       "    .dataframe tbody tr th {\n",
       "        vertical-align: top;\n",
       "    }\n",
       "\n",
       "    .dataframe thead th {\n",
       "        text-align: right;\n",
       "    }\n",
       "</style>\n",
       "<table border=\"1\" class=\"dataframe\">\n",
       "  <thead>\n",
       "    <tr style=\"text-align: right;\">\n",
       "      <th></th>\n",
       "      <th>made_deposit_yes</th>\n",
       "    </tr>\n",
       "  </thead>\n",
       "  <tbody>\n",
       "    <tr>\n",
       "      <th>made_deposit_yes</th>\n",
       "      <td>1.000000</td>\n",
       "    </tr>\n",
       "    <tr>\n",
       "      <th>poutcome_success</th>\n",
       "      <td>0.288618</td>\n",
       "    </tr>\n",
       "    <tr>\n",
       "      <th>last_contact_unknown</th>\n",
       "      <td>-0.252461</td>\n",
       "    </tr>\n",
       "    <tr>\n",
       "      <th>poutcome_unknown</th>\n",
       "      <td>-0.230137</td>\n",
       "    </tr>\n",
       "    <tr>\n",
       "      <th>last_contact_cellular</th>\n",
       "      <td>0.221521</td>\n",
       "    </tr>\n",
       "    <tr>\n",
       "      <th>housing_yes</th>\n",
       "      <td>-0.208218</td>\n",
       "    </tr>\n",
       "    <tr>\n",
       "      <th>last_contact_month_may</th>\n",
       "      <td>-0.171572</td>\n",
       "    </tr>\n",
       "    <tr>\n",
       "      <th>days_since_last_contact</th>\n",
       "      <td>0.148349</td>\n",
       "    </tr>\n",
       "    <tr>\n",
       "      <th>previous</th>\n",
       "      <td>0.137195</td>\n",
       "    </tr>\n",
       "    <tr>\n",
       "      <th>last_contact_month_mar</th>\n",
       "      <td>0.135297</td>\n",
       "    </tr>\n",
       "    <tr>\n",
       "      <th>last_contact_month_oct</th>\n",
       "      <td>0.134565</td>\n",
       "    </tr>\n",
       "    <tr>\n",
       "      <th>campaign</th>\n",
       "      <td>-0.130988</td>\n",
       "    </tr>\n",
       "    <tr>\n",
       "      <th>last_contact_month_sep</th>\n",
       "      <td>0.126387</td>\n",
       "    </tr>\n",
       "    <tr>\n",
       "      <th>has_loan_yes</th>\n",
       "      <td>-0.111526</td>\n",
       "    </tr>\n",
       "    <tr>\n",
       "      <th>job_retired</th>\n",
       "      <td>0.106805</td>\n",
       "    </tr>\n",
       "    <tr>\n",
       "      <th>job_blue-collar</th>\n",
       "      <td>-0.102963</td>\n",
       "    </tr>\n",
       "    <tr>\n",
       "      <th>job_student</th>\n",
       "      <td>0.101905</td>\n",
       "    </tr>\n",
       "    <tr>\n",
       "      <th>last_contact_month_apr</th>\n",
       "      <td>0.097491</td>\n",
       "    </tr>\n",
       "    <tr>\n",
       "      <th>married_married</th>\n",
       "      <td>-0.093762</td>\n",
       "    </tr>\n",
       "    <tr>\n",
       "      <th>married_single</th>\n",
       "      <td>0.093627</td>\n",
       "    </tr>\n",
       "    <tr>\n",
       "      <th>last_contact_month_dec</th>\n",
       "      <td>0.089342</td>\n",
       "    </tr>\n",
       "    <tr>\n",
       "      <th>education_tertiary</th>\n",
       "      <td>0.087985</td>\n",
       "    </tr>\n",
       "    <tr>\n",
       "      <th>current_balance</th>\n",
       "      <td>0.077631</td>\n",
       "    </tr>\n",
       "    <tr>\n",
       "      <th>last_contact_month_feb</th>\n",
       "      <td>0.061081</td>\n",
       "    </tr>\n",
       "    <tr>\n",
       "      <th>last_contact_month_jul</th>\n",
       "      <td>-0.053404</td>\n",
       "    </tr>\n",
       "    <tr>\n",
       "      <th>education_primary</th>\n",
       "      <td>-0.052273</td>\n",
       "    </tr>\n",
       "    <tr>\n",
       "      <th>last_contact_day</th>\n",
       "      <td>-0.050836</td>\n",
       "    </tr>\n",
       "    <tr>\n",
       "      <th>education_secondary</th>\n",
       "      <td>-0.050270</td>\n",
       "    </tr>\n",
       "    <tr>\n",
       "      <th>job_services</th>\n",
       "      <td>-0.045906</td>\n",
       "    </tr>\n",
       "    <tr>\n",
       "      <th>job_entrepreneur</th>\n",
       "      <td>-0.045721</td>\n",
       "    </tr>\n",
       "    <tr>\n",
       "      <th>defaulted?_yes</th>\n",
       "      <td>-0.044096</td>\n",
       "    </tr>\n",
       "    <tr>\n",
       "      <th>age</th>\n",
       "      <td>0.042439</td>\n",
       "    </tr>\n",
       "    <tr>\n",
       "      <th>poutcome_other</th>\n",
       "      <td>0.040864</td>\n",
       "    </tr>\n",
       "    <tr>\n",
       "      <th>last_contact_month_nov</th>\n",
       "      <td>-0.032647</td>\n",
       "    </tr>\n",
       "    <tr>\n",
       "      <th>job_management</th>\n",
       "      <td>0.031144</td>\n",
       "    </tr>\n",
       "    <tr>\n",
       "      <th>job_housemaid</th>\n",
       "      <td>-0.029276</td>\n",
       "    </tr>\n",
       "    <tr>\n",
       "      <th>job_unemployed</th>\n",
       "      <td>0.026959</td>\n",
       "    </tr>\n",
       "    <tr>\n",
       "      <th>last_contact_month_jan</th>\n",
       "      <td>-0.022816</td>\n",
       "    </tr>\n",
       "    <tr>\n",
       "      <th>last_contact_month_aug</th>\n",
       "      <td>-0.022198</td>\n",
       "    </tr>\n",
       "    <tr>\n",
       "      <th>poutcome_failure</th>\n",
       "      <td>0.019988</td>\n",
       "    </tr>\n",
       "    <tr>\n",
       "      <th>last_contact_month_jun</th>\n",
       "      <td>-0.017272</td>\n",
       "    </tr>\n",
       "    <tr>\n",
       "      <th>last_contact_telephone</th>\n",
       "      <td>0.013330</td>\n",
       "    </tr>\n",
       "    <tr>\n",
       "      <th>job_admin.</th>\n",
       "      <td>0.011872</td>\n",
       "    </tr>\n",
       "    <tr>\n",
       "      <th>married_divorced</th>\n",
       "      <td>0.008785</td>\n",
       "    </tr>\n",
       "    <tr>\n",
       "      <th>job_technician</th>\n",
       "      <td>-0.008311</td>\n",
       "    </tr>\n",
       "    <tr>\n",
       "      <th>education_unknown</th>\n",
       "      <td>0.007706</td>\n",
       "    </tr>\n",
       "    <tr>\n",
       "      <th>job_self-employed</th>\n",
       "      <td>-0.004966</td>\n",
       "    </tr>\n",
       "    <tr>\n",
       "      <th>job_unknown</th>\n",
       "      <td>0.000492</td>\n",
       "    </tr>\n",
       "  </tbody>\n",
       "</table>\n",
       "</div>"
      ],
      "text/plain": [
       "                         made_deposit_yes\n",
       "made_deposit_yes                 1.000000\n",
       "poutcome_success                 0.288618\n",
       "last_contact_unknown            -0.252461\n",
       "poutcome_unknown                -0.230137\n",
       "last_contact_cellular            0.221521\n",
       "housing_yes                     -0.208218\n",
       "last_contact_month_may          -0.171572\n",
       "days_since_last_contact          0.148349\n",
       "previous                         0.137195\n",
       "last_contact_month_mar           0.135297\n",
       "last_contact_month_oct           0.134565\n",
       "campaign                        -0.130988\n",
       "last_contact_month_sep           0.126387\n",
       "has_loan_yes                    -0.111526\n",
       "job_retired                      0.106805\n",
       "job_blue-collar                 -0.102963\n",
       "job_student                      0.101905\n",
       "last_contact_month_apr           0.097491\n",
       "married_married                 -0.093762\n",
       "married_single                   0.093627\n",
       "last_contact_month_dec           0.089342\n",
       "education_tertiary               0.087985\n",
       "current_balance                  0.077631\n",
       "last_contact_month_feb           0.061081\n",
       "last_contact_month_jul          -0.053404\n",
       "education_primary               -0.052273\n",
       "last_contact_day                -0.050836\n",
       "education_secondary             -0.050270\n",
       "job_services                    -0.045906\n",
       "job_entrepreneur                -0.045721\n",
       "defaulted?_yes                  -0.044096\n",
       "age                              0.042439\n",
       "poutcome_other                   0.040864\n",
       "last_contact_month_nov          -0.032647\n",
       "job_management                   0.031144\n",
       "job_housemaid                   -0.029276\n",
       "job_unemployed                   0.026959\n",
       "last_contact_month_jan          -0.022816\n",
       "last_contact_month_aug          -0.022198\n",
       "poutcome_failure                 0.019988\n",
       "last_contact_month_jun          -0.017272\n",
       "last_contact_telephone           0.013330\n",
       "job_admin.                       0.011872\n",
       "married_divorced                 0.008785\n",
       "job_technician                  -0.008311\n",
       "education_unknown                0.007706\n",
       "job_self-employed               -0.004966\n",
       "job_unknown                      0.000492"
      ]
     },
     "execution_count": 19,
     "metadata": {},
     "output_type": "execute_result"
    }
   ],
   "source": [
    "df_dum.corr(method = 'pearson')[['made_deposit_yes']].sort_values(by = 'made_deposit_yes', ascending = False, key = abs)"
   ]
  },
  {
   "cell_type": "markdown",
   "metadata": {},
   "source": [
    "Let's have a heatmap consisting correlation between variables."
   ]
  },
  {
   "cell_type": "code",
   "execution_count": 20,
   "metadata": {
    "scrolled": false
   },
   "outputs": [
    {
     "data": {
      "image/png": "[encoded data removed]",
      "text/plain": [
       "<Figure size 1440x720 with 2 Axes>"
      ]
     },
     "metadata": {
      "needs_background": "light"
     },
     "output_type": "display_data"
    }
   ],
   "source": [
    "plt.figure(figsize = (20,10))\n",
    "sns.heatmap(df_dum.corr(), cmap = 'seismic')\n",
    "plt.show()"
   ]
  },
  {
   "cell_type": "markdown",
   "metadata": {},
   "source": [
    "From the table and heatmap above, we can can conclude that the most correlated variables to decision of making deposit are 'poutcome' which indicates the outcome of previous marketing campaign and 'last_contact' which shows the type of communication used for previous call to customer."
   ]
  },
  {
   "cell_type": "markdown",
   "metadata": {},
   "source": [
    "# Machine Learning"
   ]
  },
  {
   "cell_type": "markdown",
   "metadata": {},
   "source": [
    "## Train-Test-Split"
   ]
  },
  {
   "cell_type": "markdown",
   "metadata": {},
   "source": [
    "We split the data set into train set and test set. The test set gets 20% of the overall data, while the rest goes to train data.\n",
    "The split is done in stratified fashion. Each set contains the same percentage of samples of each target class (made_deposit: yes/no) as the complete set"
   ]
  },
  {
   "cell_type": "code",
   "execution_count": 21,
   "metadata": {},
   "outputs": [],
   "source": [
    "from sklearn.model_selection import train_test_split"
   ]
  },
  {
   "cell_type": "code",
   "execution_count": 22,
   "metadata": {},
   "outputs": [],
   "source": [
    "df.drop(['campaign', 'days_since_last_contact', 'last_contact_day', 'cc_tr'], axis = 1, inplace = True)"
   ]
  },
  {
   "cell_type": "code",
   "execution_count": 23,
   "metadata": {
    "scrolled": true
   },
   "outputs": [],
   "source": [
    "X = df.drop('made_deposit', axis=1)\n",
    "y = df[\"made_deposit\"].replace({\"yes\": 1, \"no\": 0})\n",
    "\n",
    "X_train, X_test, y_train, y_test = train_test_split(\n",
    "    X, y, \n",
    "    test_size=0.2, random_state=42, stratify = y)"
   ]
  },
  {
   "cell_type": "markdown",
   "metadata": {},
   "source": [
    "## Importing API"
   ]
  },
  {
   "cell_type": "markdown",
   "metadata": {},
   "source": [
    "These are the tools that will be used in the modelling section."
   ]
  },
  {
   "cell_type": "code",
   "execution_count": 24,
   "metadata": {},
   "outputs": [],
   "source": [
    "from sklearn.linear_model import LogisticRegression\n",
    "from sklearn.model_selection import cross_validate\n",
    "from sklearn.model_selection import KFold\n",
    "from sklearn.ensemble import RandomForestClassifier\n",
    "from sklearn.neural_network import MLPClassifier\n",
    "from sklearn.metrics import f1_score\n",
    "from sklearn.metrics import confusion_matrix\n",
    "from sklearn.base import clone\n",
    "from sklearn.preprocessing import StandardScaler, OneHotEncoder\n",
    "from sklearn.pipeline import Pipeline\n",
    "from sklearn.pipeline import make_pipeline\n",
    "from sklearn.model_selection import StratifiedKFold\n",
    "from sklearn.metrics import confusion_matrix\n",
    "from sklearn.model_selection import GridSearchCV\n",
    "from sklearn.metrics import plot_roc_curve\n",
    "from sklearn.metrics import precision_score\n",
    "from sklearn.metrics import recall_score\n",
    "from sklearn.metrics import roc_auc_score\n",
    "from sklearn.metrics import auc\n",
    "from sklearn.metrics import plot_roc_curve\n",
    "from sklearn.metrics import accuracy_score\n",
    "from sklearn import set_config\n",
    "from sklearn.compose import make_column_selector as selector\n",
    "from sklearn.compose import ColumnTransformer\n",
    "from sklearn.compose import make_column_transformer\n",
    "from sklearn.decomposition import PCA\n",
    "from matplotlib.ticker import ScalarFormatter\n",
    "\n",
    "sss = StratifiedKFold()"
   ]
  },
  {
   "cell_type": "markdown",
   "metadata": {},
   "source": [
    "## Creating Transformer Pipelines"
   ]
  },
  {
   "cell_type": "markdown",
   "metadata": {},
   "source": [
    "We build necessary transformer pipeline for the models. There will be two pipelines, one for logistic regression and MLP model which need standardization for to handle its numerical variables, the other for random forest model which does not need standardization. Both pipelines have one-hot-encoder tool to handle categorical variables."
   ]
  },
  {
   "cell_type": "code",
   "execution_count": 25,
   "metadata": {},
   "outputs": [],
   "source": [
    "categorical = X.select_dtypes(exclude=np.number).columns.tolist()\n",
    "\n",
    "numerical = X.select_dtypes(include=np.number).columns.tolist()"
   ]
  },
  {
   "cell_type": "code",
   "execution_count": 26,
   "metadata": {},
   "outputs": [],
   "source": [
    "preprocessor1 = ColumnTransformer(\n",
    "    [('one-hot-encoder', OneHotEncoder(handle_unknown=\"ignore\"), categorical), \n",
    "     ('standard-scaler', StandardScaler(), numerical)], \n",
    "    sparse_threshold=0)"
   ]
  },
  {
   "cell_type": "code",
   "execution_count": 27,
   "metadata": {},
   "outputs": [],
   "source": [
    "preprocessor2 = ColumnTransformer(\n",
    "    [('one-hot-encoder', OneHotEncoder(handle_unknown=\"ignore\"), categorical)],\n",
    "    sparse_threshold=0, remainder='passthrough')"
   ]
  },
  {
   "cell_type": "markdown",
   "metadata": {},
   "source": [
    "Here's the diagram of the transformer for logistic regression and MLP."
   ]
  },
  {
   "cell_type": "code",
   "execution_count": 28,
   "metadata": {},
   "outputs": [
    {
     "data": {
      "text/html": [
       "<style>#sk-31d0dd4f-65e5-449a-a778-b0e4c93a4271 {color: black;background-color: white;}#sk-31d0dd4f-65e5-449a-a778-b0e4c93a4271 pre{padding: 0;}#sk-31d0dd4f-65e5-449a-a778-b0e4c93a4271 div.sk-toggleable {background-color: white;}#sk-31d0dd4f-65e5-449a-a778-b0e4c93a4271 label.sk-toggleable__label {cursor: pointer;display: block;width: 100%;margin-bottom: 0;padding: 0.2em 0.3em;box-sizing: border-box;text-align: center;}#sk-31d0dd4f-65e5-449a-a778-b0e4c93a4271 div.sk-toggleable__content {max-height: 0;max-width: 0;overflow: hidden;text-align: left;background-color: #f0f8ff;}#sk-31d0dd4f-65e5-449a-a778-b0e4c93a4271 div.sk-toggleable__content pre {margin: 0.2em;color: black;border-radius: 0.25em;background-color: #f0f8ff;}#sk-31d0dd4f-65e5-449a-a778-b0e4c93a4271 input.sk-toggleable__control:checked~div.sk-toggleable__content {max-height: 200px;max-width: 100%;overflow: auto;}#sk-31d0dd4f-65e5-449a-a778-b0e4c93a4271 div.sk-estimator input.sk-toggleable__control:checked~label.sk-toggleable__label {background-color: #d4ebff;}#sk-31d0dd4f-65e5-449a-a778-b0e4c93a4271 div.sk-label input.sk-toggleable__control:checked~label.sk-toggleable__label {background-color: #d4ebff;}#sk-31d0dd4f-65e5-449a-a778-b0e4c93a4271 input.sk-hidden--visually {border: 0;clip: rect(1px 1px 1px 1px);clip: rect(1px, 1px, 1px, 1px);height: 1px;margin: -1px;overflow: hidden;padding: 0;position: absolute;width: 1px;}#sk-31d0dd4f-65e5-449a-a778-b0e4c93a4271 div.sk-estimator {font-family: monospace;background-color: #f0f8ff;margin: 0.25em 0.25em;border: 1px dotted black;border-radius: 0.25em;box-sizing: border-box;}#sk-31d0dd4f-65e5-449a-a778-b0e4c93a4271 div.sk-estimator:hover {background-color: #d4ebff;}#sk-31d0dd4f-65e5-449a-a778-b0e4c93a4271 div.sk-parallel-item::after {content: \"\";width: 100%;border-bottom: 1px solid gray;flex-grow: 1;}#sk-31d0dd4f-65e5-449a-a778-b0e4c93a4271 div.sk-label:hover label.sk-toggleable__label {background-color: #d4ebff;}#sk-31d0dd4f-65e5-449a-a778-b0e4c93a4271 div.sk-serial::before {content: \"\";position: absolute;border-left: 1px solid gray;box-sizing: border-box;top: 2em;bottom: 0;left: 50%;}#sk-31d0dd4f-65e5-449a-a778-b0e4c93a4271 div.sk-serial {display: flex;flex-direction: column;align-items: center;background-color: white;}#sk-31d0dd4f-65e5-449a-a778-b0e4c93a4271 div.sk-item {z-index: 1;}#sk-31d0dd4f-65e5-449a-a778-b0e4c93a4271 div.sk-parallel {display: flex;align-items: stretch;justify-content: center;background-color: white;}#sk-31d0dd4f-65e5-449a-a778-b0e4c93a4271 div.sk-parallel-item {display: flex;flex-direction: column;position: relative;background-color: white;}#sk-31d0dd4f-65e5-449a-a778-b0e4c93a4271 div.sk-parallel-item:first-child::after {align-self: flex-end;width: 50%;}#sk-31d0dd4f-65e5-449a-a778-b0e4c93a4271 div.sk-parallel-item:last-child::after {align-self: flex-start;width: 50%;}#sk-31d0dd4f-65e5-449a-a778-b0e4c93a4271 div.sk-parallel-item:only-child::after {width: 0;}#sk-31d0dd4f-65e5-449a-a778-b0e4c93a4271 div.sk-dashed-wrapped {border: 1px dashed gray;margin: 0.2em;box-sizing: border-box;padding-bottom: 0.1em;background-color: white;position: relative;}#sk-31d0dd4f-65e5-449a-a778-b0e4c93a4271 div.sk-label label {font-family: monospace;font-weight: bold;background-color: white;display: inline-block;line-height: 1.2em;}#sk-31d0dd4f-65e5-449a-a778-b0e4c93a4271 div.sk-label-container {position: relative;z-index: 2;text-align: center;}#sk-31d0dd4f-65e5-449a-a778-b0e4c93a4271 div.sk-container {display: inline-block;position: relative;}</style><div id=\"sk-31d0dd4f-65e5-449a-a778-b0e4c93a4271\" class\"sk-top-container\"><div class=\"sk-container\"><div class=\"sk-item sk-dashed-wrapped\"><div class=\"sk-label-container\"><div class=\"sk-label sk-toggleable\"><input class=\"sk-toggleable__control sk-hidden--visually\" id=\"d26d3360-5d41-4c33-a178-4d1546be0ef4\" type=\"checkbox\" ><label class=\"sk-toggleable__label\" for=\"d26d3360-5d41-4c33-a178-4d1546be0ef4\">ColumnTransformer</label><div class=\"sk-toggleable__content\"><pre>ColumnTransformer(sparse_threshold=0,\n",
       "                  transformers=[('one-hot-encoder',\n",
       "                                 OneHotEncoder(handle_unknown='ignore'),\n",
       "                                 ['job', 'married', 'education', 'defaulted?',\n",
       "                                  'housing', 'has_loan', 'last_contact',\n",
       "                                  'last_contact_month', 'poutcome']),\n",
       "                                ('standard-scaler', StandardScaler(),\n",
       "                                 ['age', 'current_balance', 'previous'])])</pre></div></div></div><div class=\"sk-parallel\"><div class=\"sk-parallel-item\"><div class=\"sk-item\"><div class=\"sk-label-container\"><div class=\"sk-label sk-toggleable\"><input class=\"sk-toggleable__control sk-hidden--visually\" id=\"83294ee4-8bbb-42a4-82ea-1f3bf7f159f7\" type=\"checkbox\" ><label class=\"sk-toggleable__label\" for=\"83294ee4-8bbb-42a4-82ea-1f3bf7f159f7\">one-hot-encoder</label><div class=\"sk-toggleable__content\"><pre>['job', 'married', 'education', 'defaulted?', 'housing', 'has_loan', 'last_contact', 'last_contact_month', 'poutcome']</pre></div></div></div><div class=\"sk-serial\"><div class=\"sk-item\"><div class=\"sk-estimator sk-toggleable\"><input class=\"sk-toggleable__control sk-hidden--visually\" id=\"432f6f0a-b42a-451c-b7ac-29b9f19e04c8\" type=\"checkbox\" ><label class=\"sk-toggleable__label\" for=\"432f6f0a-b42a-451c-b7ac-29b9f19e04c8\">OneHotEncoder</label><div class=\"sk-toggleable__content\"><pre>OneHotEncoder(handle_unknown='ignore')</pre></div></div></div></div></div></div><div class=\"sk-parallel-item\"><div class=\"sk-item\"><div class=\"sk-label-container\"><div class=\"sk-label sk-toggleable\"><input class=\"sk-toggleable__control sk-hidden--visually\" id=\"ebcde6ad-acd5-491a-a4a3-a53d60069140\" type=\"checkbox\" ><label class=\"sk-toggleable__label\" for=\"ebcde6ad-acd5-491a-a4a3-a53d60069140\">standard-scaler</label><div class=\"sk-toggleable__content\"><pre>['age', 'current_balance', 'previous']</pre></div></div></div><div class=\"sk-serial\"><div class=\"sk-item\"><div class=\"sk-estimator sk-toggleable\"><input class=\"sk-toggleable__control sk-hidden--visually\" id=\"78d78230-9ec4-4c59-bdd2-e87d09dc1b3e\" type=\"checkbox\" ><label class=\"sk-toggleable__label\" for=\"78d78230-9ec4-4c59-bdd2-e87d09dc1b3e\">StandardScaler</label><div class=\"sk-toggleable__content\"><pre>StandardScaler()</pre></div></div></div></div></div></div></div></div></div></div>"
      ],
      "text/plain": [
       "ColumnTransformer(sparse_threshold=0,\n",
       "                  transformers=[('one-hot-encoder',\n",
       "                                 OneHotEncoder(handle_unknown='ignore'),\n",
       "                                 ['job', 'married', 'education', 'defaulted?',\n",
       "                                  'housing', 'has_loan', 'last_contact',\n",
       "                                  'last_contact_month', 'poutcome']),\n",
       "                                ('standard-scaler', StandardScaler(),\n",
       "                                 ['age', 'current_balance', 'previous'])])"
      ]
     },
     "execution_count": 28,
     "metadata": {},
     "output_type": "execute_result"
    }
   ],
   "source": [
    "set_config(display='diagram')\n",
    "preprocessor1"
   ]
  },
  {
   "cell_type": "markdown",
   "metadata": {},
   "source": [
    "Here's the diagram of the transformer for Random Forest."
   ]
  },
  {
   "cell_type": "code",
   "execution_count": 29,
   "metadata": {},
   "outputs": [
    {
     "data": {
      "text/html": [
       "<style>#sk-ecbd8ffb-da4e-4729-84d4-b0850368ea39 {color: black;background-color: white;}#sk-ecbd8ffb-da4e-4729-84d4-b0850368ea39 pre{padding: 0;}#sk-ecbd8ffb-da4e-4729-84d4-b0850368ea39 div.sk-toggleable {background-color: white;}#sk-ecbd8ffb-da4e-4729-84d4-b0850368ea39 label.sk-toggleable__label {cursor: pointer;display: block;width: 100%;margin-bottom: 0;padding: 0.2em 0.3em;box-sizing: border-box;text-align: center;}#sk-ecbd8ffb-da4e-4729-84d4-b0850368ea39 div.sk-toggleable__content {max-height: 0;max-width: 0;overflow: hidden;text-align: left;background-color: #f0f8ff;}#sk-ecbd8ffb-da4e-4729-84d4-b0850368ea39 div.sk-toggleable__content pre {margin: 0.2em;color: black;border-radius: 0.25em;background-color: #f0f8ff;}#sk-ecbd8ffb-da4e-4729-84d4-b0850368ea39 input.sk-toggleable__control:checked~div.sk-toggleable__content {max-height: 200px;max-width: 100%;overflow: auto;}#sk-ecbd8ffb-da4e-4729-84d4-b0850368ea39 div.sk-estimator input.sk-toggleable__control:checked~label.sk-toggleable__label {background-color: #d4ebff;}#sk-ecbd8ffb-da4e-4729-84d4-b0850368ea39 div.sk-label input.sk-toggleable__control:checked~label.sk-toggleable__label {background-color: #d4ebff;}#sk-ecbd8ffb-da4e-4729-84d4-b0850368ea39 input.sk-hidden--visually {border: 0;clip: rect(1px 1px 1px 1px);clip: rect(1px, 1px, 1px, 1px);height: 1px;margin: -1px;overflow: hidden;padding: 0;position: absolute;width: 1px;}#sk-ecbd8ffb-da4e-4729-84d4-b0850368ea39 div.sk-estimator {font-family: monospace;background-color: #f0f8ff;margin: 0.25em 0.25em;border: 1px dotted black;border-radius: 0.25em;box-sizing: border-box;}#sk-ecbd8ffb-da4e-4729-84d4-b0850368ea39 div.sk-estimator:hover {background-color: #d4ebff;}#sk-ecbd8ffb-da4e-4729-84d4-b0850368ea39 div.sk-parallel-item::after {content: \"\";width: 100%;border-bottom: 1px solid gray;flex-grow: 1;}#sk-ecbd8ffb-da4e-4729-84d4-b0850368ea39 div.sk-label:hover label.sk-toggleable__label {background-color: #d4ebff;}#sk-ecbd8ffb-da4e-4729-84d4-b0850368ea39 div.sk-serial::before {content: \"\";position: absolute;border-left: 1px solid gray;box-sizing: border-box;top: 2em;bottom: 0;left: 50%;}#sk-ecbd8ffb-da4e-4729-84d4-b0850368ea39 div.sk-serial {display: flex;flex-direction: column;align-items: center;background-color: white;}#sk-ecbd8ffb-da4e-4729-84d4-b0850368ea39 div.sk-item {z-index: 1;}#sk-ecbd8ffb-da4e-4729-84d4-b0850368ea39 div.sk-parallel {display: flex;align-items: stretch;justify-content: center;background-color: white;}#sk-ecbd8ffb-da4e-4729-84d4-b0850368ea39 div.sk-parallel-item {display: flex;flex-direction: column;position: relative;background-color: white;}#sk-ecbd8ffb-da4e-4729-84d4-b0850368ea39 div.sk-parallel-item:first-child::after {align-self: flex-end;width: 50%;}#sk-ecbd8ffb-da4e-4729-84d4-b0850368ea39 div.sk-parallel-item:last-child::after {align-self: flex-start;width: 50%;}#sk-ecbd8ffb-da4e-4729-84d4-b0850368ea39 div.sk-parallel-item:only-child::after {width: 0;}#sk-ecbd8ffb-da4e-4729-84d4-b0850368ea39 div.sk-dashed-wrapped {border: 1px dashed gray;margin: 0.2em;box-sizing: border-box;padding-bottom: 0.1em;background-color: white;position: relative;}#sk-ecbd8ffb-da4e-4729-84d4-b0850368ea39 div.sk-label label {font-family: monospace;font-weight: bold;background-color: white;display: inline-block;line-height: 1.2em;}#sk-ecbd8ffb-da4e-4729-84d4-b0850368ea39 div.sk-label-container {position: relative;z-index: 2;text-align: center;}#sk-ecbd8ffb-da4e-4729-84d4-b0850368ea39 div.sk-container {display: inline-block;position: relative;}</style><div id=\"sk-ecbd8ffb-da4e-4729-84d4-b0850368ea39\" class\"sk-top-container\"><div class=\"sk-container\"><div class=\"sk-item sk-dashed-wrapped\"><div class=\"sk-label-container\"><div class=\"sk-label sk-toggleable\"><input class=\"sk-toggleable__control sk-hidden--visually\" id=\"37d29223-4247-4011-bff1-c0cc18653a2a\" type=\"checkbox\" ><label class=\"sk-toggleable__label\" for=\"37d29223-4247-4011-bff1-c0cc18653a2a\">ColumnTransformer</label><div class=\"sk-toggleable__content\"><pre>ColumnTransformer(remainder='passthrough', sparse_threshold=0,\n",
       "                  transformers=[('one-hot-encoder',\n",
       "                                 OneHotEncoder(handle_unknown='ignore'),\n",
       "                                 ['job', 'married', 'education', 'defaulted?',\n",
       "                                  'housing', 'has_loan', 'last_contact',\n",
       "                                  'last_contact_month', 'poutcome'])])</pre></div></div></div><div class=\"sk-parallel\"><div class=\"sk-parallel-item\"><div class=\"sk-item\"><div class=\"sk-label-container\"><div class=\"sk-label sk-toggleable\"><input class=\"sk-toggleable__control sk-hidden--visually\" id=\"2906fd7b-72fa-4a00-a5d4-e25311bcffa0\" type=\"checkbox\" ><label class=\"sk-toggleable__label\" for=\"2906fd7b-72fa-4a00-a5d4-e25311bcffa0\">one-hot-encoder</label><div class=\"sk-toggleable__content\"><pre>['job', 'married', 'education', 'defaulted?', 'housing', 'has_loan', 'last_contact', 'last_contact_month', 'poutcome']</pre></div></div></div><div class=\"sk-serial\"><div class=\"sk-item\"><div class=\"sk-estimator sk-toggleable\"><input class=\"sk-toggleable__control sk-hidden--visually\" id=\"90836336-be74-4909-be95-6a52b3a6e687\" type=\"checkbox\" ><label class=\"sk-toggleable__label\" for=\"90836336-be74-4909-be95-6a52b3a6e687\">OneHotEncoder</label><div class=\"sk-toggleable__content\"><pre>OneHotEncoder(handle_unknown='ignore')</pre></div></div></div></div></div></div><div class=\"sk-parallel-item\"><div class=\"sk-item\"><div class=\"sk-label-container\"><div class=\"sk-label sk-toggleable\"><input class=\"sk-toggleable__control sk-hidden--visually\" id=\"8dbd2a4b-6431-4500-9f95-ff587f95b4ad\" type=\"checkbox\" ><label class=\"sk-toggleable__label\" for=\"8dbd2a4b-6431-4500-9f95-ff587f95b4ad\">remainder</label><div class=\"sk-toggleable__content\"><pre></pre></div></div></div><div class=\"sk-serial\"><div class=\"sk-item\"><div class=\"sk-estimator sk-toggleable\"><input class=\"sk-toggleable__control sk-hidden--visually\" id=\"0e837991-1afa-4b3d-8fe0-b3f103339c87\" type=\"checkbox\" ><label class=\"sk-toggleable__label\" for=\"0e837991-1afa-4b3d-8fe0-b3f103339c87\">passthrough</label><div class=\"sk-toggleable__content\"><pre>passthrough</pre></div></div></div></div></div></div></div></div></div></div>"
      ],
      "text/plain": [
       "ColumnTransformer(remainder='passthrough', sparse_threshold=0,\n",
       "                  transformers=[('one-hot-encoder',\n",
       "                                 OneHotEncoder(handle_unknown='ignore'),\n",
       "                                 ['job', 'married', 'education', 'defaulted?',\n",
       "                                  'housing', 'has_loan', 'last_contact',\n",
       "                                  'last_contact_month', 'poutcome'])])"
      ]
     },
     "execution_count": 29,
     "metadata": {},
     "output_type": "execute_result"
    }
   ],
   "source": [
    "preprocessor2"
   ]
  },
  {
   "cell_type": "markdown",
   "metadata": {},
   "source": [
    "Declare the models. PCA exclusively only used for the logistic regression model."
   ]
  },
  {
   "cell_type": "code",
   "execution_count": 30,
   "metadata": {},
   "outputs": [],
   "source": [
    "pca = PCA(random_state = 42)\n",
    "LR = LogisticRegression(random_state = 42)\n",
    "RF = RandomForestClassifier(random_state = 42)\n",
    "MLP = MLPClassifier(random_state=42, activation = 'logistic')"
   ]
  },
  {
   "cell_type": "markdown",
   "metadata": {},
   "source": [
    "## Modelling"
   ]
  },
  {
   "cell_type": "markdown",
   "metadata": {},
   "source": [
    "We will tune the hyperparameter using GridSearchCV method. We set the parameters and let the algorithm look which parameter yield the best results. The metrics we will use is F1 Score. The F1 score is the harmonic mean of the precision and recall, which is resistant to imbalanced class, which is the case for this data."
   ]
  },
  {
   "cell_type": "markdown",
   "metadata": {},
   "source": [
    "### Logistic Regression"
   ]
  },
  {
   "cell_type": "markdown",
   "metadata": {},
   "source": [
    "Now we build Logistic Regression algorithm. The parameters we are going to look for are whether the algorithm applies regularization penalty or not and if applied, how strong the regularization is. We also look for how many components resulted by the PCA."
   ]
  },
  {
   "cell_type": "code",
   "execution_count": 31,
   "metadata": {},
   "outputs": [],
   "source": [
    "parameters1 = {'PCA__n_components': [2,5,10,20],  \n",
    "               'LR__penalty': ['l2', 'none'],'LR__C':[0.001,0.01,1,5,10,25],\n",
    "              }\n",
    "\n",
    "GS1 = GridSearchCV(Pipeline([('Transformer', preprocessor1),\n",
    "                             ('PCA', PCA(random_state=42)), ('LR', LR)]), \n",
    "                 param_grid = parameters1, scoring = 'f1', cv = sss)"
   ]
  },
  {
   "cell_type": "code",
   "execution_count": 32,
   "metadata": {
    "scrolled": true
   },
   "outputs": [
    {
     "data": {
      "text/html": [
       "<style>#sk-ab9b3cb7-262e-4664-8e81-85db0b1eb494 {color: black;background-color: white;}#sk-ab9b3cb7-262e-4664-8e81-85db0b1eb494 pre{padding: 0;}#sk-ab9b3cb7-262e-4664-8e81-85db0b1eb494 div.sk-toggleable {background-color: white;}#sk-ab9b3cb7-262e-4664-8e81-85db0b1eb494 label.sk-toggleable__label {cursor: pointer;display: block;width: 100%;margin-bottom: 0;padding: 0.2em 0.3em;box-sizing: border-box;text-align: center;}#sk-ab9b3cb7-262e-4664-8e81-85db0b1eb494 div.sk-toggleable__content {max-height: 0;max-width: 0;overflow: hidden;text-align: left;background-color: #f0f8ff;}#sk-ab9b3cb7-262e-4664-8e81-85db0b1eb494 div.sk-toggleable__content pre {margin: 0.2em;color: black;border-radius: 0.25em;background-color: #f0f8ff;}#sk-ab9b3cb7-262e-4664-8e81-85db0b1eb494 input.sk-toggleable__control:checked~div.sk-toggleable__content {max-height: 200px;max-width: 100%;overflow: auto;}#sk-ab9b3cb7-262e-4664-8e81-85db0b1eb494 div.sk-estimator input.sk-toggleable__control:checked~label.sk-toggleable__label {background-color: #d4ebff;}#sk-ab9b3cb7-262e-4664-8e81-85db0b1eb494 div.sk-label input.sk-toggleable__control:checked~label.sk-toggleable__label {background-color: #d4ebff;}#sk-ab9b3cb7-262e-4664-8e81-85db0b1eb494 input.sk-hidden--visually {border: 0;clip: rect(1px 1px 1px 1px);clip: rect(1px, 1px, 1px, 1px);height: 1px;margin: -1px;overflow: hidden;padding: 0;position: absolute;width: 1px;}#sk-ab9b3cb7-262e-4664-8e81-85db0b1eb494 div.sk-estimator {font-family: monospace;background-color: #f0f8ff;margin: 0.25em 0.25em;border: 1px dotted black;border-radius: 0.25em;box-sizing: border-box;}#sk-ab9b3cb7-262e-4664-8e81-85db0b1eb494 div.sk-estimator:hover {background-color: #d4ebff;}#sk-ab9b3cb7-262e-4664-8e81-85db0b1eb494 div.sk-parallel-item::after {content: \"\";width: 100%;border-bottom: 1px solid gray;flex-grow: 1;}#sk-ab9b3cb7-262e-4664-8e81-85db0b1eb494 div.sk-label:hover label.sk-toggleable__label {background-color: #d4ebff;}#sk-ab9b3cb7-262e-4664-8e81-85db0b1eb494 div.sk-serial::before {content: \"\";position: absolute;border-left: 1px solid gray;box-sizing: border-box;top: 2em;bottom: 0;left: 50%;}#sk-ab9b3cb7-262e-4664-8e81-85db0b1eb494 div.sk-serial {display: flex;flex-direction: column;align-items: center;background-color: white;}#sk-ab9b3cb7-262e-4664-8e81-85db0b1eb494 div.sk-item {z-index: 1;}#sk-ab9b3cb7-262e-4664-8e81-85db0b1eb494 div.sk-parallel {display: flex;align-items: stretch;justify-content: center;background-color: white;}#sk-ab9b3cb7-262e-4664-8e81-85db0b1eb494 div.sk-parallel-item {display: flex;flex-direction: column;position: relative;background-color: white;}#sk-ab9b3cb7-262e-4664-8e81-85db0b1eb494 div.sk-parallel-item:first-child::after {align-self: flex-end;width: 50%;}#sk-ab9b3cb7-262e-4664-8e81-85db0b1eb494 div.sk-parallel-item:last-child::after {align-self: flex-start;width: 50%;}#sk-ab9b3cb7-262e-4664-8e81-85db0b1eb494 div.sk-parallel-item:only-child::after {width: 0;}#sk-ab9b3cb7-262e-4664-8e81-85db0b1eb494 div.sk-dashed-wrapped {border: 1px dashed gray;margin: 0.2em;box-sizing: border-box;padding-bottom: 0.1em;background-color: white;position: relative;}#sk-ab9b3cb7-262e-4664-8e81-85db0b1eb494 div.sk-label label {font-family: monospace;font-weight: bold;background-color: white;display: inline-block;line-height: 1.2em;}#sk-ab9b3cb7-262e-4664-8e81-85db0b1eb494 div.sk-label-container {position: relative;z-index: 2;text-align: center;}#sk-ab9b3cb7-262e-4664-8e81-85db0b1eb494 div.sk-container {display: inline-block;position: relative;}</style><div id=\"sk-ab9b3cb7-262e-4664-8e81-85db0b1eb494\" class\"sk-top-container\"><div class=\"sk-container\"><div class=\"sk-item sk-dashed-wrapped\"><div class=\"sk-label-container\"><div class=\"sk-label sk-toggleable\"><input class=\"sk-toggleable__control sk-hidden--visually\" id=\"c4833f24-4e5f-45fe-9ba6-b1f7583857bf\" type=\"checkbox\" ><label class=\"sk-toggleable__label\" for=\"c4833f24-4e5f-45fe-9ba6-b1f7583857bf\">GridSearchCV</label><div class=\"sk-toggleable__content\"><pre>GridSearchCV(cv=StratifiedKFold(n_splits=5, random_state=None, shuffle=False),\n",
       "             estimator=Pipeline(steps=[('Transformer',\n",
       "                                        ColumnTransformer(sparse_threshold=0,\n",
       "                                                          transformers=[('one-hot-encoder',\n",
       "                                                                         OneHotEncoder(handle_unknown='ignore'),\n",
       "                                                                         ['job',\n",
       "                                                                          'married',\n",
       "                                                                          'education',\n",
       "                                                                          'defaulted?',\n",
       "                                                                          'housing',\n",
       "                                                                          'has_loan',\n",
       "                                                                          'last_contact',\n",
       "                                                                          'last_contact_month',\n",
       "                                                                          'poutcome']),\n",
       "                                                                        ('standard-scaler',\n",
       "                                                                         StandardScaler(),\n",
       "                                                                         ['age',\n",
       "                                                                          'current_balance',\n",
       "                                                                          'previous'])])),\n",
       "                                       ('PCA', PCA(random_state=42)),\n",
       "                                       ('LR',\n",
       "                                        LogisticRegression(random_state=42))]),\n",
       "             param_grid={'LR__C': [0.001, 0.01, 1, 5, 10, 25],\n",
       "                         'LR__penalty': ['l2', 'none'],\n",
       "                         'PCA__n_components': [2, 5, 10, 20]},\n",
       "             scoring='f1')</pre></div></div></div><div class=\"sk-parallel\"><div class=\"sk-parallel-item\"><div class=\"sk-item\"><div class=\"sk-serial\"><div class=\"sk-item\"><div class=\"sk-serial\"><div class=\"sk-item sk-dashed-wrapped\"><div class=\"sk-label-container\"><div class=\"sk-label sk-toggleable\"><input class=\"sk-toggleable__control sk-hidden--visually\" id=\"a82f9d28-877b-42f9-8ff8-78b7a1b5de60\" type=\"checkbox\" ><label class=\"sk-toggleable__label\" for=\"a82f9d28-877b-42f9-8ff8-78b7a1b5de60\">Transformer: ColumnTransformer</label><div class=\"sk-toggleable__content\"><pre>ColumnTransformer(sparse_threshold=0,\n",
       "                  transformers=[('one-hot-encoder',\n",
       "                                 OneHotEncoder(handle_unknown='ignore'),\n",
       "                                 ['job', 'married', 'education', 'defaulted?',\n",
       "                                  'housing', 'has_loan', 'last_contact',\n",
       "                                  'last_contact_month', 'poutcome']),\n",
       "                                ('standard-scaler', StandardScaler(),\n",
       "                                 ['age', 'current_balance', 'previous'])])</pre></div></div></div><div class=\"sk-parallel\"><div class=\"sk-parallel-item\"><div class=\"sk-item\"><div class=\"sk-label-container\"><div class=\"sk-label sk-toggleable\"><input class=\"sk-toggleable__control sk-hidden--visually\" id=\"929aacc8-454c-4b7b-ac6e-6cf6eedd55c6\" type=\"checkbox\" ><label class=\"sk-toggleable__label\" for=\"929aacc8-454c-4b7b-ac6e-6cf6eedd55c6\">one-hot-encoder</label><div class=\"sk-toggleable__content\"><pre>['job', 'married', 'education', 'defaulted?', 'housing', 'has_loan', 'last_contact', 'last_contact_month', 'poutcome']</pre></div></div></div><div class=\"sk-serial\"><div class=\"sk-item\"><div class=\"sk-estimator sk-toggleable\"><input class=\"sk-toggleable__control sk-hidden--visually\" id=\"b8cc4865-ff6a-4d4a-9a4d-1319c3ba4576\" type=\"checkbox\" ><label class=\"sk-toggleable__label\" for=\"b8cc4865-ff6a-4d4a-9a4d-1319c3ba4576\">OneHotEncoder</label><div class=\"sk-toggleable__content\"><pre>OneHotEncoder(handle_unknown='ignore')</pre></div></div></div></div></div></div><div class=\"sk-parallel-item\"><div class=\"sk-item\"><div class=\"sk-label-container\"><div class=\"sk-label sk-toggleable\"><input class=\"sk-toggleable__control sk-hidden--visually\" id=\"1463250a-3297-480f-9a65-675054162ca9\" type=\"checkbox\" ><label class=\"sk-toggleable__label\" for=\"1463250a-3297-480f-9a65-675054162ca9\">standard-scaler</label><div class=\"sk-toggleable__content\"><pre>['age', 'current_balance', 'previous']</pre></div></div></div><div class=\"sk-serial\"><div class=\"sk-item\"><div class=\"sk-estimator sk-toggleable\"><input class=\"sk-toggleable__control sk-hidden--visually\" id=\"4e37ce33-b0dc-4832-96e1-c8da96b93282\" type=\"checkbox\" ><label class=\"sk-toggleable__label\" for=\"4e37ce33-b0dc-4832-96e1-c8da96b93282\">StandardScaler</label><div class=\"sk-toggleable__content\"><pre>StandardScaler()</pre></div></div></div></div></div></div></div></div><div class=\"sk-item\"><div class=\"sk-estimator sk-toggleable\"><input class=\"sk-toggleable__control sk-hidden--visually\" id=\"5839b1b1-76a5-4445-b054-e50ab76428da\" type=\"checkbox\" ><label class=\"sk-toggleable__label\" for=\"5839b1b1-76a5-4445-b054-e50ab76428da\">PCA</label><div class=\"sk-toggleable__content\"><pre>PCA(random_state=42)</pre></div></div></div><div class=\"sk-item\"><div class=\"sk-estimator sk-toggleable\"><input class=\"sk-toggleable__control sk-hidden--visually\" id=\"04dd26d1-fcc5-45b5-8be9-440272d020d5\" type=\"checkbox\" ><label class=\"sk-toggleable__label\" for=\"04dd26d1-fcc5-45b5-8be9-440272d020d5\">LogisticRegression</label><div class=\"sk-toggleable__content\"><pre>LogisticRegression(random_state=42)</pre></div></div></div></div></div></div></div></div></div></div></div></div>"
      ],
      "text/plain": [
       "GridSearchCV(cv=StratifiedKFold(n_splits=5, random_state=None, shuffle=False),\n",
       "             estimator=Pipeline(steps=[('Transformer',\n",
       "                                        ColumnTransformer(sparse_threshold=0,\n",
       "                                                          transformers=[('one-hot-encoder',\n",
       "                                                                         OneHotEncoder(handle_unknown='ignore'),\n",
       "                                                                         ['job',\n",
       "                                                                          'married',\n",
       "                                                                          'education',\n",
       "                                                                          'defaulted?',\n",
       "                                                                          'housing',\n",
       "                                                                          'has_loan',\n",
       "                                                                          'last_contact',\n",
       "                                                                          'last_contact_month',\n",
       "                                                                          'poutcome']),\n",
       "                                                                        ('standard-scaler',\n",
       "                                                                         StandardScaler(),\n",
       "                                                                         ['age',\n",
       "                                                                          'current_balance',\n",
       "                                                                          'previous'])])),\n",
       "                                       ('PCA', PCA(random_state=42)),\n",
       "                                       ('LR',\n",
       "                                        LogisticRegression(random_state=42))]),\n",
       "             param_grid={'LR__C': [0.001, 0.01, 1, 5, 10, 25],\n",
       "                         'LR__penalty': ['l2', 'none'],\n",
       "                         'PCA__n_components': [2, 5, 10, 20]},\n",
       "             scoring='f1')"
      ]
     },
     "execution_count": 32,
     "metadata": {},
     "output_type": "execute_result"
    }
   ],
   "source": [
    "GS1.fit(X_train, y_train)"
   ]
  },
  {
   "cell_type": "code",
   "execution_count": 33,
   "metadata": {
    "scrolled": true
   },
   "outputs": [],
   "source": [
    "GS1_results = pd.DataFrame(GS1.cv_results_)"
   ]
  },
  {
   "cell_type": "markdown",
   "metadata": {},
   "source": [
    "Now we check 10 best models for logistic regression."
   ]
  },
  {
   "cell_type": "code",
   "execution_count": 34,
   "metadata": {},
   "outputs": [
    {
     "data": {
      "text/html": [
       "<div>\n",
       "<style scoped>\n",
       "    .dataframe tbody tr th:only-of-type {\n",
       "        vertical-align: middle;\n",
       "    }\n",
       "\n",
       "    .dataframe tbody tr th {\n",
       "        vertical-align: top;\n",
       "    }\n",
       "\n",
       "    .dataframe thead th {\n",
       "        text-align: right;\n",
       "    }\n",
       "</style>\n",
       "<table border=\"1\" class=\"dataframe\">\n",
       "  <thead>\n",
       "    <tr style=\"text-align: right;\">\n",
       "      <th></th>\n",
       "      <th>param_LR__C</th>\n",
       "      <th>param_LR__penalty</th>\n",
       "      <th>param_PCA__n_components</th>\n",
       "      <th>mean_test_score</th>\n",
       "    </tr>\n",
       "  </thead>\n",
       "  <tbody>\n",
       "    <tr>\n",
       "      <th>11</th>\n",
       "      <td>0.01</td>\n",
       "      <td>l2</td>\n",
       "      <td>20</td>\n",
       "      <td>0.647175</td>\n",
       "    </tr>\n",
       "    <tr>\n",
       "      <th>18</th>\n",
       "      <td>1</td>\n",
       "      <td>l2</td>\n",
       "      <td>10</td>\n",
       "      <td>0.642249</td>\n",
       "    </tr>\n",
       "    <tr>\n",
       "      <th>10</th>\n",
       "      <td>0.01</td>\n",
       "      <td>l2</td>\n",
       "      <td>10</td>\n",
       "      <td>0.642210</td>\n",
       "    </tr>\n",
       "    <tr>\n",
       "      <th>30</th>\n",
       "      <td>5</td>\n",
       "      <td>none</td>\n",
       "      <td>10</td>\n",
       "      <td>0.642042</td>\n",
       "    </tr>\n",
       "    <tr>\n",
       "      <th>38</th>\n",
       "      <td>10</td>\n",
       "      <td>none</td>\n",
       "      <td>10</td>\n",
       "      <td>0.642042</td>\n",
       "    </tr>\n",
       "    <tr>\n",
       "      <th>14</th>\n",
       "      <td>0.01</td>\n",
       "      <td>none</td>\n",
       "      <td>10</td>\n",
       "      <td>0.642042</td>\n",
       "    </tr>\n",
       "    <tr>\n",
       "      <th>26</th>\n",
       "      <td>5</td>\n",
       "      <td>l2</td>\n",
       "      <td>10</td>\n",
       "      <td>0.642042</td>\n",
       "    </tr>\n",
       "    <tr>\n",
       "      <th>22</th>\n",
       "      <td>1</td>\n",
       "      <td>none</td>\n",
       "      <td>10</td>\n",
       "      <td>0.642042</td>\n",
       "    </tr>\n",
       "    <tr>\n",
       "      <th>42</th>\n",
       "      <td>25</td>\n",
       "      <td>l2</td>\n",
       "      <td>10</td>\n",
       "      <td>0.642042</td>\n",
       "    </tr>\n",
       "    <tr>\n",
       "      <th>6</th>\n",
       "      <td>0.001</td>\n",
       "      <td>none</td>\n",
       "      <td>10</td>\n",
       "      <td>0.642042</td>\n",
       "    </tr>\n",
       "  </tbody>\n",
       "</table>\n",
       "</div>"
      ],
      "text/plain": [
       "   param_LR__C param_LR__penalty param_PCA__n_components  mean_test_score\n",
       "11        0.01                l2                      20         0.647175\n",
       "18           1                l2                      10         0.642249\n",
       "10        0.01                l2                      10         0.642210\n",
       "30           5              none                      10         0.642042\n",
       "38          10              none                      10         0.642042\n",
       "14        0.01              none                      10         0.642042\n",
       "26           5                l2                      10         0.642042\n",
       "22           1              none                      10         0.642042\n",
       "42          25                l2                      10         0.642042\n",
       "6        0.001              none                      10         0.642042"
      ]
     },
     "execution_count": 34,
     "metadata": {},
     "output_type": "execute_result"
    }
   ],
   "source": [
    "GS1_results[['param_LR__C', 'param_LR__penalty', 'param_PCA__n_components',\n",
    "            'mean_test_score']].sort_values(by=['mean_test_score'], ascending = False).head(10)"
   ]
  },
  {
   "cell_type": "markdown",
   "metadata": {},
   "source": [
    "We can see among the 10 top models, the mean F1-score do not vary greatly. All fell within 2 digits behind comma. Let's visualize how the specification of the model yield the F1-score. We will see how the application of penalty, regularization strength, and the number of components affect F1 score."
   ]
  },
  {
   "cell_type": "code",
   "execution_count": 35,
   "metadata": {},
   "outputs": [
    {
     "data": {
      "image/png": "[encoded data removed]",
      "text/plain": [
       "<Figure size 360x360 with 1 Axes>"
      ]
     },
     "metadata": {
      "needs_background": "light"
     },
     "output_type": "display_data"
    }
   ],
   "source": [
    "plt.figure(figsize=(5,5))\n",
    "ax_lr = sns.scatterplot(x = 'param_LR__C', y = 'mean_test_score', hue = 'param_LR__penalty', data = GS1_results, size = 'param_PCA__n_components')\n",
    "plt.title('Logistic Regression Hyperparameter Tuning')\n",
    "ax_lr.set_xscale('log')\n",
    "ax_lr.set_xticks([0.001,0.01,1,5,10,25])\n",
    "plt.xlim(-5,30)\n",
    "plt.legend(loc='center right')\n",
    "plt.show()"
   ]
  },
  {
   "cell_type": "markdown",
   "metadata": {},
   "source": [
    "The models with higher n_components yield higher F1-score, while the regularization strength yield pretty much similar results accross all value. For testing data, we are going to use the parameters which yields highest F1 score. This i"
   ]
  },
  {
   "cell_type": "code",
   "execution_count": 36,
   "metadata": {},
   "outputs": [
    {
     "data": {
      "text/plain": [
       "{'LR__C': 0.01, 'LR__penalty': 'l2', 'PCA__n_components': 20}"
      ]
     },
     "execution_count": 36,
     "metadata": {},
     "output_type": "execute_result"
    }
   ],
   "source": [
    "GS1.best_params_"
   ]
  },
  {
   "cell_type": "markdown",
   "metadata": {},
   "source": [
    "### Random Forest"
   ]
  },
  {
   "cell_type": "markdown",
   "metadata": {},
   "source": [
    "Now we build Random Forest algorithm. The parameters we are going to look for are critetion, forest depth, minimum samples in each leaf of the tree, and the maximum number of features to consider when looking for the best split"
   ]
  },
  {
   "cell_type": "code",
   "execution_count": 37,
   "metadata": {},
   "outputs": [],
   "source": [
    "parameters2 = {'RF__criterion': ['gini', 'entropy'],\n",
    "              \"RF__max_depth\" : [5,10,20,50],\n",
    "               \"RF__min_samples_leaf\":[1,2,3,5,10,20,25,50,100],\n",
    "               \"RF__max_features\":[\"auto\",\"log2\",None]\n",
    "              }\n",
    "\n",
    "GS2 = GridSearchCV(Pipeline([('Transformer', preprocessor2),\n",
    "                             ('RF', RandomForestClassifier(random_state = 42))]), \n",
    "                   param_grid = parameters2, scoring = 'f1', cv = sss)"
   ]
  },
  {
   "cell_type": "code",
   "execution_count": 38,
   "metadata": {
    "scrolled": true
   },
   "outputs": [
    {
     "data": {
      "text/html": [
       "<style>#sk-b39ee52c-7d33-4a2e-8beb-f161f82fe29b {color: black;background-color: white;}#sk-b39ee52c-7d33-4a2e-8beb-f161f82fe29b pre{padding: 0;}#sk-b39ee52c-7d33-4a2e-8beb-f161f82fe29b div.sk-toggleable {background-color: white;}#sk-b39ee52c-7d33-4a2e-8beb-f161f82fe29b label.sk-toggleable__label {cursor: pointer;display: block;width: 100%;margin-bottom: 0;padding: 0.2em 0.3em;box-sizing: border-box;text-align: center;}#sk-b39ee52c-7d33-4a2e-8beb-f161f82fe29b div.sk-toggleable__content {max-height: 0;max-width: 0;overflow: hidden;text-align: left;background-color: #f0f8ff;}#sk-b39ee52c-7d33-4a2e-8beb-f161f82fe29b div.sk-toggleable__content pre {margin: 0.2em;color: black;border-radius: 0.25em;background-color: #f0f8ff;}#sk-b39ee52c-7d33-4a2e-8beb-f161f82fe29b input.sk-toggleable__control:checked~div.sk-toggleable__content {max-height: 200px;max-width: 100%;overflow: auto;}#sk-b39ee52c-7d33-4a2e-8beb-f161f82fe29b div.sk-estimator input.sk-toggleable__control:checked~label.sk-toggleable__label {background-color: #d4ebff;}#sk-b39ee52c-7d33-4a2e-8beb-f161f82fe29b div.sk-label input.sk-toggleable__control:checked~label.sk-toggleable__label {background-color: #d4ebff;}#sk-b39ee52c-7d33-4a2e-8beb-f161f82fe29b input.sk-hidden--visually {border: 0;clip: rect(1px 1px 1px 1px);clip: rect(1px, 1px, 1px, 1px);height: 1px;margin: -1px;overflow: hidden;padding: 0;position: absolute;width: 1px;}#sk-b39ee52c-7d33-4a2e-8beb-f161f82fe29b div.sk-estimator {font-family: monospace;background-color: #f0f8ff;margin: 0.25em 0.25em;border: 1px dotted black;border-radius: 0.25em;box-sizing: border-box;}#sk-b39ee52c-7d33-4a2e-8beb-f161f82fe29b div.sk-estimator:hover {background-color: #d4ebff;}#sk-b39ee52c-7d33-4a2e-8beb-f161f82fe29b div.sk-parallel-item::after {content: \"\";width: 100%;border-bottom: 1px solid gray;flex-grow: 1;}#sk-b39ee52c-7d33-4a2e-8beb-f161f82fe29b div.sk-label:hover label.sk-toggleable__label {background-color: #d4ebff;}#sk-b39ee52c-7d33-4a2e-8beb-f161f82fe29b div.sk-serial::before {content: \"\";position: absolute;border-left: 1px solid gray;box-sizing: border-box;top: 2em;bottom: 0;left: 50%;}#sk-b39ee52c-7d33-4a2e-8beb-f161f82fe29b div.sk-serial {display: flex;flex-direction: column;align-items: center;background-color: white;}#sk-b39ee52c-7d33-4a2e-8beb-f161f82fe29b div.sk-item {z-index: 1;}#sk-b39ee52c-7d33-4a2e-8beb-f161f82fe29b div.sk-parallel {display: flex;align-items: stretch;justify-content: center;background-color: white;}#sk-b39ee52c-7d33-4a2e-8beb-f161f82fe29b div.sk-parallel-item {display: flex;flex-direction: column;position: relative;background-color: white;}#sk-b39ee52c-7d33-4a2e-8beb-f161f82fe29b div.sk-parallel-item:first-child::after {align-self: flex-end;width: 50%;}#sk-b39ee52c-7d33-4a2e-8beb-f161f82fe29b div.sk-parallel-item:last-child::after {align-self: flex-start;width: 50%;}#sk-b39ee52c-7d33-4a2e-8beb-f161f82fe29b div.sk-parallel-item:only-child::after {width: 0;}#sk-b39ee52c-7d33-4a2e-8beb-f161f82fe29b div.sk-dashed-wrapped {border: 1px dashed gray;margin: 0.2em;box-sizing: border-box;padding-bottom: 0.1em;background-color: white;position: relative;}#sk-b39ee52c-7d33-4a2e-8beb-f161f82fe29b div.sk-label label {font-family: monospace;font-weight: bold;background-color: white;display: inline-block;line-height: 1.2em;}#sk-b39ee52c-7d33-4a2e-8beb-f161f82fe29b div.sk-label-container {position: relative;z-index: 2;text-align: center;}#sk-b39ee52c-7d33-4a2e-8beb-f161f82fe29b div.sk-container {display: inline-block;position: relative;}</style><div id=\"sk-b39ee52c-7d33-4a2e-8beb-f161f82fe29b\" class\"sk-top-container\"><div class=\"sk-container\"><div class=\"sk-item sk-dashed-wrapped\"><div class=\"sk-label-container\"><div class=\"sk-label sk-toggleable\"><input class=\"sk-toggleable__control sk-hidden--visually\" id=\"dbe025dc-4355-446e-a546-82ae73f2b1c8\" type=\"checkbox\" ><label class=\"sk-toggleable__label\" for=\"dbe025dc-4355-446e-a546-82ae73f2b1c8\">GridSearchCV</label><div class=\"sk-toggleable__content\"><pre>GridSearchCV(cv=StratifiedKFold(n_splits=5, random_state=None, shuffle=False),\n",
       "             estimator=Pipeline(steps=[('Transformer',\n",
       "                                        ColumnTransformer(remainder='passthrough',\n",
       "                                                          sparse_threshold=0,\n",
       "                                                          transformers=[('one-hot-encoder',\n",
       "                                                                         OneHotEncoder(handle_unknown='ignore'),\n",
       "                                                                         ['job',\n",
       "                                                                          'married',\n",
       "                                                                          'education',\n",
       "                                                                          'defaulted?',\n",
       "                                                                          'housing',\n",
       "                                                                          'has_loan',\n",
       "                                                                          'last_contact',\n",
       "                                                                          'last_contact_month',\n",
       "                                                                          'poutcome'])])),\n",
       "                                       ('RF',\n",
       "                                        RandomForestClassifier(random_state=42))]),\n",
       "             param_grid={'RF__criterion': ['gini', 'entropy'],\n",
       "                         'RF__max_depth': [5, 10, 20, 50],\n",
       "                         'RF__max_features': ['auto', 'log2', None],\n",
       "                         'RF__min_samples_leaf': [1, 2, 3, 5, 10, 20, 25, 50,\n",
       "                                                  100]},\n",
       "             scoring='f1')</pre></div></div></div><div class=\"sk-parallel\"><div class=\"sk-parallel-item\"><div class=\"sk-item\"><div class=\"sk-serial\"><div class=\"sk-item\"><div class=\"sk-serial\"><div class=\"sk-item sk-dashed-wrapped\"><div class=\"sk-label-container\"><div class=\"sk-label sk-toggleable\"><input class=\"sk-toggleable__control sk-hidden--visually\" id=\"19026fbd-4527-4aa1-84a3-2f35cb550a79\" type=\"checkbox\" ><label class=\"sk-toggleable__label\" for=\"19026fbd-4527-4aa1-84a3-2f35cb550a79\">Transformer: ColumnTransformer</label><div class=\"sk-toggleable__content\"><pre>ColumnTransformer(remainder='passthrough', sparse_threshold=0,\n",
       "                  transformers=[('one-hot-encoder',\n",
       "                                 OneHotEncoder(handle_unknown='ignore'),\n",
       "                                 ['job', 'married', 'education', 'defaulted?',\n",
       "                                  'housing', 'has_loan', 'last_contact',\n",
       "                                  'last_contact_month', 'poutcome'])])</pre></div></div></div><div class=\"sk-parallel\"><div class=\"sk-parallel-item\"><div class=\"sk-item\"><div class=\"sk-label-container\"><div class=\"sk-label sk-toggleable\"><input class=\"sk-toggleable__control sk-hidden--visually\" id=\"7f7ca358-7446-4450-8968-e27bf525954c\" type=\"checkbox\" ><label class=\"sk-toggleable__label\" for=\"7f7ca358-7446-4450-8968-e27bf525954c\">one-hot-encoder</label><div class=\"sk-toggleable__content\"><pre>['job', 'married', 'education', 'defaulted?', 'housing', 'has_loan', 'last_contact', 'last_contact_month', 'poutcome']</pre></div></div></div><div class=\"sk-serial\"><div class=\"sk-item\"><div class=\"sk-estimator sk-toggleable\"><input class=\"sk-toggleable__control sk-hidden--visually\" id=\"03d9a9d1-275c-4164-a98e-bc0a45bbd956\" type=\"checkbox\" ><label class=\"sk-toggleable__label\" for=\"03d9a9d1-275c-4164-a98e-bc0a45bbd956\">OneHotEncoder</label><div class=\"sk-toggleable__content\"><pre>OneHotEncoder(handle_unknown='ignore')</pre></div></div></div></div></div></div><div class=\"sk-parallel-item\"><div class=\"sk-item\"><div class=\"sk-label-container\"><div class=\"sk-label sk-toggleable\"><input class=\"sk-toggleable__control sk-hidden--visually\" id=\"ea1a08fb-fb82-4b75-b42e-3df3a7c2876c\" type=\"checkbox\" ><label class=\"sk-toggleable__label\" for=\"ea1a08fb-fb82-4b75-b42e-3df3a7c2876c\">remainder</label><div class=\"sk-toggleable__content\"><pre></pre></div></div></div><div class=\"sk-serial\"><div class=\"sk-item\"><div class=\"sk-estimator sk-toggleable\"><input class=\"sk-toggleable__control sk-hidden--visually\" id=\"9cc79375-215b-46eb-9ce8-b8e7b3379c26\" type=\"checkbox\" ><label class=\"sk-toggleable__label\" for=\"9cc79375-215b-46eb-9ce8-b8e7b3379c26\">passthrough</label><div class=\"sk-toggleable__content\"><pre>passthrough</pre></div></div></div></div></div></div></div></div><div class=\"sk-item\"><div class=\"sk-estimator sk-toggleable\"><input class=\"sk-toggleable__control sk-hidden--visually\" id=\"0329c9fb-4df2-4c33-9604-27b91d1744a1\" type=\"checkbox\" ><label class=\"sk-toggleable__label\" for=\"0329c9fb-4df2-4c33-9604-27b91d1744a1\">RandomForestClassifier</label><div class=\"sk-toggleable__content\"><pre>RandomForestClassifier(random_state=42)</pre></div></div></div></div></div></div></div></div></div></div></div></div>"
      ],
      "text/plain": [
       "GridSearchCV(cv=StratifiedKFold(n_splits=5, random_state=None, shuffle=False),\n",
       "             estimator=Pipeline(steps=[('Transformer',\n",
       "                                        ColumnTransformer(remainder='passthrough',\n",
       "                                                          sparse_threshold=0,\n",
       "                                                          transformers=[('one-hot-encoder',\n",
       "                                                                         OneHotEncoder(handle_unknown='ignore'),\n",
       "                                                                         ['job',\n",
       "                                                                          'married',\n",
       "                                                                          'education',\n",
       "                                                                          'defaulted?',\n",
       "                                                                          'housing',\n",
       "                                                                          'has_loan',\n",
       "                                                                          'last_contact',\n",
       "                                                                          'last_contact_month',\n",
       "                                                                          'poutcome'])])),\n",
       "                                       ('RF',\n",
       "                                        RandomForestClassifier(random_state=42))]),\n",
       "             param_grid={'RF__criterion': ['gini', 'entropy'],\n",
       "                         'RF__max_depth': [5, 10, 20, 50],\n",
       "                         'RF__max_features': ['auto', 'log2', None],\n",
       "                         'RF__min_samples_leaf': [1, 2, 3, 5, 10, 20, 25, 50,\n",
       "                                                  100]},\n",
       "             scoring='f1')"
      ]
     },
     "execution_count": 38,
     "metadata": {},
     "output_type": "execute_result"
    }
   ],
   "source": [
    "GS2.fit(X_train, y_train) "
   ]
  },
  {
   "cell_type": "code",
   "execution_count": 39,
   "metadata": {
    "scrolled": true
   },
   "outputs": [],
   "source": [
    "GS2_results = pd.DataFrame(GS2.cv_results_)"
   ]
  },
  {
   "cell_type": "code",
   "execution_count": 40,
   "metadata": {},
   "outputs": [
    {
     "data": {
      "text/html": [
       "<div>\n",
       "<style scoped>\n",
       "    .dataframe tbody tr th:only-of-type {\n",
       "        vertical-align: middle;\n",
       "    }\n",
       "\n",
       "    .dataframe tbody tr th {\n",
       "        vertical-align: top;\n",
       "    }\n",
       "\n",
       "    .dataframe thead th {\n",
       "        text-align: right;\n",
       "    }\n",
       "</style>\n",
       "<table border=\"1\" class=\"dataframe\">\n",
       "  <thead>\n",
       "    <tr style=\"text-align: right;\">\n",
       "      <th></th>\n",
       "      <th>param_RF__criterion</th>\n",
       "      <th>param_RF__max_depth</th>\n",
       "      <th>param_RF__max_features</th>\n",
       "      <th>param_RF__min_samples_leaf</th>\n",
       "      <th>mean_test_score</th>\n",
       "    </tr>\n",
       "  </thead>\n",
       "  <tbody>\n",
       "    <tr>\n",
       "      <th>56</th>\n",
       "      <td>gini</td>\n",
       "      <td>20</td>\n",
       "      <td>auto</td>\n",
       "      <td>3</td>\n",
       "      <td>0.673212</td>\n",
       "    </tr>\n",
       "    <tr>\n",
       "      <th>92</th>\n",
       "      <td>gini</td>\n",
       "      <td>50</td>\n",
       "      <td>log2</td>\n",
       "      <td>3</td>\n",
       "      <td>0.671857</td>\n",
       "    </tr>\n",
       "    <tr>\n",
       "      <th>91</th>\n",
       "      <td>gini</td>\n",
       "      <td>50</td>\n",
       "      <td>log2</td>\n",
       "      <td>2</td>\n",
       "      <td>0.670595</td>\n",
       "    </tr>\n",
       "    <tr>\n",
       "      <th>173</th>\n",
       "      <td>entropy</td>\n",
       "      <td>20</td>\n",
       "      <td>log2</td>\n",
       "      <td>3</td>\n",
       "      <td>0.670085</td>\n",
       "    </tr>\n",
       "    <tr>\n",
       "      <th>65</th>\n",
       "      <td>gini</td>\n",
       "      <td>20</td>\n",
       "      <td>log2</td>\n",
       "      <td>3</td>\n",
       "      <td>0.669994</td>\n",
       "    </tr>\n",
       "    <tr>\n",
       "      <th>200</th>\n",
       "      <td>entropy</td>\n",
       "      <td>50</td>\n",
       "      <td>log2</td>\n",
       "      <td>3</td>\n",
       "      <td>0.669612</td>\n",
       "    </tr>\n",
       "    <tr>\n",
       "      <th>199</th>\n",
       "      <td>entropy</td>\n",
       "      <td>50</td>\n",
       "      <td>log2</td>\n",
       "      <td>2</td>\n",
       "      <td>0.669519</td>\n",
       "    </tr>\n",
       "    <tr>\n",
       "      <th>183</th>\n",
       "      <td>entropy</td>\n",
       "      <td>20</td>\n",
       "      <td>None</td>\n",
       "      <td>5</td>\n",
       "      <td>0.669401</td>\n",
       "    </tr>\n",
       "    <tr>\n",
       "      <th>172</th>\n",
       "      <td>entropy</td>\n",
       "      <td>20</td>\n",
       "      <td>log2</td>\n",
       "      <td>2</td>\n",
       "      <td>0.669382</td>\n",
       "    </tr>\n",
       "    <tr>\n",
       "      <th>83</th>\n",
       "      <td>gini</td>\n",
       "      <td>50</td>\n",
       "      <td>auto</td>\n",
       "      <td>3</td>\n",
       "      <td>0.669169</td>\n",
       "    </tr>\n",
       "  </tbody>\n",
       "</table>\n",
       "</div>"
      ],
      "text/plain": [
       "    param_RF__criterion param_RF__max_depth param_RF__max_features  \\\n",
       "56                 gini                  20                   auto   \n",
       "92                 gini                  50                   log2   \n",
       "91                 gini                  50                   log2   \n",
       "173             entropy                  20                   log2   \n",
       "65                 gini                  20                   log2   \n",
       "200             entropy                  50                   log2   \n",
       "199             entropy                  50                   log2   \n",
       "183             entropy                  20                   None   \n",
       "172             entropy                  20                   log2   \n",
       "83                 gini                  50                   auto   \n",
       "\n",
       "    param_RF__min_samples_leaf  mean_test_score  \n",
       "56                           3         0.673212  \n",
       "92                           3         0.671857  \n",
       "91                           2         0.670595  \n",
       "173                          3         0.670085  \n",
       "65                           3         0.669994  \n",
       "200                          3         0.669612  \n",
       "199                          2         0.669519  \n",
       "183                          5         0.669401  \n",
       "172                          2         0.669382  \n",
       "83                           3         0.669169  "
      ]
     },
     "execution_count": 40,
     "metadata": {},
     "output_type": "execute_result"
    }
   ],
   "source": [
    "GS2_results[['param_RF__criterion', 'param_RF__max_depth', 'param_RF__max_features',\n",
    "       'param_RF__min_samples_leaf',\n",
    "            'mean_test_score']].sort_values(by=['mean_test_score'], ascending = False).head(10)"
   ]
  },
  {
   "cell_type": "markdown",
   "metadata": {},
   "source": [
    "We can see among the 10 top models. Top 10 models yield F1 score between 0.66 to 0.67 in F1 score. Let's visualize how the specification of the model yield the F1-score."
   ]
  },
  {
   "cell_type": "code",
   "execution_count": 41,
   "metadata": {},
   "outputs": [
    {
     "data": {
      "image/png": "[encoded data removed]",
      "text/plain": [
       "<Figure size 432x288 with 1 Axes>"
      ]
     },
     "metadata": {
      "needs_background": "light"
     },
     "output_type": "display_data"
    }
   ],
   "source": [
    "sns.boxplot(y = 'mean_test_score', x = 'param_RF__criterion', data = GS2_results)\n",
    "plt.ylabel('Mean F1 Score')\n",
    "plt.xlabel('Criterion')\n",
    "plt.title('F1 Score vs Criterion')\n",
    "plt.show()"
   ]
  },
  {
   "cell_type": "markdown",
   "metadata": {},
   "source": [
    "The model's critetion does not affect the model's performance much."
   ]
  },
  {
   "cell_type": "code",
   "execution_count": 42,
   "metadata": {},
   "outputs": [
    {
     "data": {
      "image/png": "[encoded data removed]",
      "text/plain": [
       "<Figure size 432x288 with 1 Axes>"
      ]
     },
     "metadata": {
      "needs_background": "light"
     },
     "output_type": "display_data"
    }
   ],
   "source": [
    "sns.scatterplot(y = 'mean_test_score', x = 'param_RF__max_depth', data = GS2_results)\n",
    "plt.title('F1 Score vs Max Depth')\n",
    "plt.show()"
   ]
  },
  {
   "cell_type": "markdown",
   "metadata": {},
   "source": [
    "In general, the deeper the tree, the better the model performs."
   ]
  },
  {
   "cell_type": "code",
   "execution_count": 43,
   "metadata": {},
   "outputs": [
    {
     "data": {
      "image/png": "[encoded data removed]",
      "text/plain": [
       "<Figure size 432x288 with 1 Axes>"
      ]
     },
     "metadata": {
      "needs_background": "light"
     },
     "output_type": "display_data"
    }
   ],
   "source": [
    "sns.boxplot(y = 'mean_test_score', x = 'param_RF__min_samples_leaf', data = GS2_results)\n",
    "plt.title('F1 Score vs Min Samples Leaf')\n",
    "plt.ylabel('Mean F1 Score')\n",
    "plt.xlabel('Min Samples Leaf')\n",
    "plt.show()"
   ]
  },
  {
   "cell_type": "markdown",
   "metadata": {},
   "source": [
    "We can conclude that 2 and 3 are the optimum number of samples in a leaf. The higher the minimum of samoles, the model tends to perform worse."
   ]
  },
  {
   "cell_type": "code",
   "execution_count": 44,
   "metadata": {},
   "outputs": [
    {
     "data": {
      "text/plain": [
       "{'RF__criterion': 'gini',\n",
       " 'RF__max_depth': 20,\n",
       " 'RF__max_features': 'auto',\n",
       " 'RF__min_samples_leaf': 3}"
      ]
     },
     "execution_count": 44,
     "metadata": {},
     "output_type": "execute_result"
    }
   ],
   "source": [
    "GS2.best_params_"
   ]
  },
  {
   "cell_type": "markdown",
   "metadata": {},
   "source": [
    "### Multi-layer Perceptron"
   ]
  },
  {
   "cell_type": "markdown",
   "metadata": {},
   "source": [
    "Now we build Multi-layer Perceptron, a neural network algorithm. The parameters we are going to look for are hidden layer sizes, solver for weight optimzation, type of Learning rate schedule, and intial learning rate used"
   ]
  },
  {
   "cell_type": "code",
   "execution_count": 45,
   "metadata": {},
   "outputs": [],
   "source": [
    "parameters3 = {'PCA__n_components': [5,10,20],\n",
    "               'MLP__hidden_layer_sizes': [5, 10, 25, 50, 80, 100],\n",
    "               'MLP__solver' :[\"adam\",\"sgd\"],\n",
    "               'MLP__learning_rate' :['constant', 'adaptive'],\n",
    "               'MLP__learning_rate_init' :[0.0001,0.001]\n",
    "              }\n",
    "\n",
    "GS3 = GridSearchCV(Pipeline([('Transformer', preprocessor1),\n",
    "                             #('toarray', ArrayTransformer()),\n",
    "                             ('PCA', PCA(random_state=42)), \n",
    "                             ('MLP', MLP)]), \n",
    "                 param_grid = parameters3, scoring = 'f1', cv = sss)"
   ]
  },
  {
   "cell_type": "code",
   "execution_count": 46,
   "metadata": {
    "scrolled": true
   },
   "outputs": [
    {
     "data": {
      "text/html": [
       "<style>#sk-695117c5-a2e7-4233-b348-c29b93939ed1 {color: black;background-color: white;}#sk-695117c5-a2e7-4233-b348-c29b93939ed1 pre{padding: 0;}#sk-695117c5-a2e7-4233-b348-c29b93939ed1 div.sk-toggleable {background-color: white;}#sk-695117c5-a2e7-4233-b348-c29b93939ed1 label.sk-toggleable__label {cursor: pointer;display: block;width: 100%;margin-bottom: 0;padding: 0.2em 0.3em;box-sizing: border-box;text-align: center;}#sk-695117c5-a2e7-4233-b348-c29b93939ed1 div.sk-toggleable__content {max-height: 0;max-width: 0;overflow: hidden;text-align: left;background-color: #f0f8ff;}#sk-695117c5-a2e7-4233-b348-c29b93939ed1 div.sk-toggleable__content pre {margin: 0.2em;color: black;border-radius: 0.25em;background-color: #f0f8ff;}#sk-695117c5-a2e7-4233-b348-c29b93939ed1 input.sk-toggleable__control:checked~div.sk-toggleable__content {max-height: 200px;max-width: 100%;overflow: auto;}#sk-695117c5-a2e7-4233-b348-c29b93939ed1 div.sk-estimator input.sk-toggleable__control:checked~label.sk-toggleable__label {background-color: #d4ebff;}#sk-695117c5-a2e7-4233-b348-c29b93939ed1 div.sk-label input.sk-toggleable__control:checked~label.sk-toggleable__label {background-color: #d4ebff;}#sk-695117c5-a2e7-4233-b348-c29b93939ed1 input.sk-hidden--visually {border: 0;clip: rect(1px 1px 1px 1px);clip: rect(1px, 1px, 1px, 1px);height: 1px;margin: -1px;overflow: hidden;padding: 0;position: absolute;width: 1px;}#sk-695117c5-a2e7-4233-b348-c29b93939ed1 div.sk-estimator {font-family: monospace;background-color: #f0f8ff;margin: 0.25em 0.25em;border: 1px dotted black;border-radius: 0.25em;box-sizing: border-box;}#sk-695117c5-a2e7-4233-b348-c29b93939ed1 div.sk-estimator:hover {background-color: #d4ebff;}#sk-695117c5-a2e7-4233-b348-c29b93939ed1 div.sk-parallel-item::after {content: \"\";width: 100%;border-bottom: 1px solid gray;flex-grow: 1;}#sk-695117c5-a2e7-4233-b348-c29b93939ed1 div.sk-label:hover label.sk-toggleable__label {background-color: #d4ebff;}#sk-695117c5-a2e7-4233-b348-c29b93939ed1 div.sk-serial::before {content: \"\";position: absolute;border-left: 1px solid gray;box-sizing: border-box;top: 2em;bottom: 0;left: 50%;}#sk-695117c5-a2e7-4233-b348-c29b93939ed1 div.sk-serial {display: flex;flex-direction: column;align-items: center;background-color: white;}#sk-695117c5-a2e7-4233-b348-c29b93939ed1 div.sk-item {z-index: 1;}#sk-695117c5-a2e7-4233-b348-c29b93939ed1 div.sk-parallel {display: flex;align-items: stretch;justify-content: center;background-color: white;}#sk-695117c5-a2e7-4233-b348-c29b93939ed1 div.sk-parallel-item {display: flex;flex-direction: column;position: relative;background-color: white;}#sk-695117c5-a2e7-4233-b348-c29b93939ed1 div.sk-parallel-item:first-child::after {align-self: flex-end;width: 50%;}#sk-695117c5-a2e7-4233-b348-c29b93939ed1 div.sk-parallel-item:last-child::after {align-self: flex-start;width: 50%;}#sk-695117c5-a2e7-4233-b348-c29b93939ed1 div.sk-parallel-item:only-child::after {width: 0;}#sk-695117c5-a2e7-4233-b348-c29b93939ed1 div.sk-dashed-wrapped {border: 1px dashed gray;margin: 0.2em;box-sizing: border-box;padding-bottom: 0.1em;background-color: white;position: relative;}#sk-695117c5-a2e7-4233-b348-c29b93939ed1 div.sk-label label {font-family: monospace;font-weight: bold;background-color: white;display: inline-block;line-height: 1.2em;}#sk-695117c5-a2e7-4233-b348-c29b93939ed1 div.sk-label-container {position: relative;z-index: 2;text-align: center;}#sk-695117c5-a2e7-4233-b348-c29b93939ed1 div.sk-container {display: inline-block;position: relative;}</style><div id=\"sk-695117c5-a2e7-4233-b348-c29b93939ed1\" class\"sk-top-container\"><div class=\"sk-container\"><div class=\"sk-item sk-dashed-wrapped\"><div class=\"sk-label-container\"><div class=\"sk-label sk-toggleable\"><input class=\"sk-toggleable__control sk-hidden--visually\" id=\"9dbee664-f94f-4fba-8d58-891ed776c069\" type=\"checkbox\" ><label class=\"sk-toggleable__label\" for=\"9dbee664-f94f-4fba-8d58-891ed776c069\">GridSearchCV</label><div class=\"sk-toggleable__content\"><pre>GridSearchCV(cv=StratifiedKFold(n_splits=5, random_state=None, shuffle=False),\n",
       "             estimator=Pipeline(steps=[('Transformer',\n",
       "                                        ColumnTransformer(sparse_threshold=0,\n",
       "                                                          transformers=[('one-hot-encoder',\n",
       "                                                                         OneHotEncoder(handle_unknown='ignore'),\n",
       "                                                                         ['job',\n",
       "                                                                          'married',\n",
       "                                                                          'education',\n",
       "                                                                          'defaulted?',\n",
       "                                                                          'housing',\n",
       "                                                                          'has_loan',\n",
       "                                                                          'last_contact',\n",
       "                                                                          'last_contact_month',\n",
       "                                                                          'poutcome']),\n",
       "                                                                        ('standard-s...\n",
       "                                                                         ['age',\n",
       "                                                                          'current_balance',\n",
       "                                                                          'previous'])])),\n",
       "                                       ('PCA', PCA(random_state=42)),\n",
       "                                       ('MLP',\n",
       "                                        MLPClassifier(activation='logistic',\n",
       "                                                      random_state=42))]),\n",
       "             param_grid={'MLP__hidden_layer_sizes': [5, 10, 25, 50, 80, 100],\n",
       "                         'MLP__learning_rate': ['constant', 'adaptive'],\n",
       "                         'MLP__learning_rate_init': [0.0001, 0.001],\n",
       "                         'MLP__solver': ['adam', 'sgd'],\n",
       "                         'PCA__n_components': [5, 10, 20]},\n",
       "             scoring='f1')</pre></div></div></div><div class=\"sk-parallel\"><div class=\"sk-parallel-item\"><div class=\"sk-item\"><div class=\"sk-serial\"><div class=\"sk-item\"><div class=\"sk-serial\"><div class=\"sk-item sk-dashed-wrapped\"><div class=\"sk-label-container\"><div class=\"sk-label sk-toggleable\"><input class=\"sk-toggleable__control sk-hidden--visually\" id=\"c2d59adf-4feb-4a0c-ab2a-e4d21d0101a1\" type=\"checkbox\" ><label class=\"sk-toggleable__label\" for=\"c2d59adf-4feb-4a0c-ab2a-e4d21d0101a1\">Transformer: ColumnTransformer</label><div class=\"sk-toggleable__content\"><pre>ColumnTransformer(sparse_threshold=0,\n",
       "                  transformers=[('one-hot-encoder',\n",
       "                                 OneHotEncoder(handle_unknown='ignore'),\n",
       "                                 ['job', 'married', 'education', 'defaulted?',\n",
       "                                  'housing', 'has_loan', 'last_contact',\n",
       "                                  'last_contact_month', 'poutcome']),\n",
       "                                ('standard-scaler', StandardScaler(),\n",
       "                                 ['age', 'current_balance', 'previous'])])</pre></div></div></div><div class=\"sk-parallel\"><div class=\"sk-parallel-item\"><div class=\"sk-item\"><div class=\"sk-label-container\"><div class=\"sk-label sk-toggleable\"><input class=\"sk-toggleable__control sk-hidden--visually\" id=\"c99a6bf6-354b-4727-a63f-f89c0a0ec497\" type=\"checkbox\" ><label class=\"sk-toggleable__label\" for=\"c99a6bf6-354b-4727-a63f-f89c0a0ec497\">one-hot-encoder</label><div class=\"sk-toggleable__content\"><pre>['job', 'married', 'education', 'defaulted?', 'housing', 'has_loan', 'last_contact', 'last_contact_month', 'poutcome']</pre></div></div></div><div class=\"sk-serial\"><div class=\"sk-item\"><div class=\"sk-estimator sk-toggleable\"><input class=\"sk-toggleable__control sk-hidden--visually\" id=\"84efd31f-347c-472e-a3fa-f59bcae7468f\" type=\"checkbox\" ><label class=\"sk-toggleable__label\" for=\"84efd31f-347c-472e-a3fa-f59bcae7468f\">OneHotEncoder</label><div class=\"sk-toggleable__content\"><pre>OneHotEncoder(handle_unknown='ignore')</pre></div></div></div></div></div></div><div class=\"sk-parallel-item\"><div class=\"sk-item\"><div class=\"sk-label-container\"><div class=\"sk-label sk-toggleable\"><input class=\"sk-toggleable__control sk-hidden--visually\" id=\"2c1a5b5f-9550-44ec-9837-47bb8020ef61\" type=\"checkbox\" ><label class=\"sk-toggleable__label\" for=\"2c1a5b5f-9550-44ec-9837-47bb8020ef61\">standard-scaler</label><div class=\"sk-toggleable__content\"><pre>['age', 'current_balance', 'previous']</pre></div></div></div><div class=\"sk-serial\"><div class=\"sk-item\"><div class=\"sk-estimator sk-toggleable\"><input class=\"sk-toggleable__control sk-hidden--visually\" id=\"4f62eac3-82fa-48e3-a49b-26db4795a31c\" type=\"checkbox\" ><label class=\"sk-toggleable__label\" for=\"4f62eac3-82fa-48e3-a49b-26db4795a31c\">StandardScaler</label><div class=\"sk-toggleable__content\"><pre>StandardScaler()</pre></div></div></div></div></div></div></div></div><div class=\"sk-item\"><div class=\"sk-estimator sk-toggleable\"><input class=\"sk-toggleable__control sk-hidden--visually\" id=\"e06efc05-1f94-4e4c-bf99-eb8bc13fc8c4\" type=\"checkbox\" ><label class=\"sk-toggleable__label\" for=\"e06efc05-1f94-4e4c-bf99-eb8bc13fc8c4\">PCA</label><div class=\"sk-toggleable__content\"><pre>PCA(random_state=42)</pre></div></div></div><div class=\"sk-item\"><div class=\"sk-estimator sk-toggleable\"><input class=\"sk-toggleable__control sk-hidden--visually\" id=\"8802df9d-1e80-421d-a2fc-6ec5c1b08b6b\" type=\"checkbox\" ><label class=\"sk-toggleable__label\" for=\"8802df9d-1e80-421d-a2fc-6ec5c1b08b6b\">MLPClassifier</label><div class=\"sk-toggleable__content\"><pre>MLPClassifier(activation='logistic', random_state=42)</pre></div></div></div></div></div></div></div></div></div></div></div></div>"
      ],
      "text/plain": [
       "GridSearchCV(cv=StratifiedKFold(n_splits=5, random_state=None, shuffle=False),\n",
       "             estimator=Pipeline(steps=[('Transformer',\n",
       "                                        ColumnTransformer(sparse_threshold=0,\n",
       "                                                          transformers=[('one-hot-encoder',\n",
       "                                                                         OneHotEncoder(handle_unknown='ignore'),\n",
       "                                                                         ['job',\n",
       "                                                                          'married',\n",
       "                                                                          'education',\n",
       "                                                                          'defaulted?',\n",
       "                                                                          'housing',\n",
       "                                                                          'has_loan',\n",
       "                                                                          'last_contact',\n",
       "                                                                          'last_contact_month',\n",
       "                                                                          'poutcome']),\n",
       "                                                                        ('standard-s...\n",
       "                                                                         ['age',\n",
       "                                                                          'current_balance',\n",
       "                                                                          'previous'])])),\n",
       "                                       ('PCA', PCA(random_state=42)),\n",
       "                                       ('MLP',\n",
       "                                        MLPClassifier(activation='logistic',\n",
       "                                                      random_state=42))]),\n",
       "             param_grid={'MLP__hidden_layer_sizes': [5, 10, 25, 50, 80, 100],\n",
       "                         'MLP__learning_rate': ['constant', 'adaptive'],\n",
       "                         'MLP__learning_rate_init': [0.0001, 0.001],\n",
       "                         'MLP__solver': ['adam', 'sgd'],\n",
       "                         'PCA__n_components': [5, 10, 20]},\n",
       "             scoring='f1')"
      ]
     },
     "execution_count": 46,
     "metadata": {},
     "output_type": "execute_result"
    }
   ],
   "source": [
    "GS3.fit(X_train, y_train) "
   ]
  },
  {
   "cell_type": "code",
   "execution_count": 47,
   "metadata": {
    "scrolled": true
   },
   "outputs": [],
   "source": [
    "GS3_results = pd.DataFrame(GS3.cv_results_)"
   ]
  },
  {
   "cell_type": "code",
   "execution_count": 48,
   "metadata": {
    "scrolled": true
   },
   "outputs": [
    {
     "data": {
      "text/html": [
       "<div>\n",
       "<style scoped>\n",
       "    .dataframe tbody tr th:only-of-type {\n",
       "        vertical-align: middle;\n",
       "    }\n",
       "\n",
       "    .dataframe tbody tr th {\n",
       "        vertical-align: top;\n",
       "    }\n",
       "\n",
       "    .dataframe thead th {\n",
       "        text-align: right;\n",
       "    }\n",
       "</style>\n",
       "<table border=\"1\" class=\"dataframe\">\n",
       "  <thead>\n",
       "    <tr style=\"text-align: right;\">\n",
       "      <th></th>\n",
       "      <th>param_MLP__hidden_layer_sizes</th>\n",
       "      <th>param_MLP__learning_rate</th>\n",
       "      <th>param_MLP__learning_rate_init</th>\n",
       "      <th>param_MLP__solver</th>\n",
       "      <th>param_PCA__n_components</th>\n",
       "      <th>mean_test_score</th>\n",
       "    </tr>\n",
       "  </thead>\n",
       "  <tbody>\n",
       "    <tr>\n",
       "      <th>62</th>\n",
       "      <td>25</td>\n",
       "      <td>adaptive</td>\n",
       "      <td>0.0001</td>\n",
       "      <td>adam</td>\n",
       "      <td>20</td>\n",
       "      <td>0.646815</td>\n",
       "    </tr>\n",
       "    <tr>\n",
       "      <th>50</th>\n",
       "      <td>25</td>\n",
       "      <td>constant</td>\n",
       "      <td>0.0001</td>\n",
       "      <td>adam</td>\n",
       "      <td>20</td>\n",
       "      <td>0.646815</td>\n",
       "    </tr>\n",
       "    <tr>\n",
       "      <th>134</th>\n",
       "      <td>100</td>\n",
       "      <td>adaptive</td>\n",
       "      <td>0.0001</td>\n",
       "      <td>adam</td>\n",
       "      <td>20</td>\n",
       "      <td>0.646344</td>\n",
       "    </tr>\n",
       "    <tr>\n",
       "      <th>122</th>\n",
       "      <td>100</td>\n",
       "      <td>constant</td>\n",
       "      <td>0.0001</td>\n",
       "      <td>adam</td>\n",
       "      <td>20</td>\n",
       "      <td>0.646344</td>\n",
       "    </tr>\n",
       "    <tr>\n",
       "      <th>74</th>\n",
       "      <td>50</td>\n",
       "      <td>constant</td>\n",
       "      <td>0.0001</td>\n",
       "      <td>adam</td>\n",
       "      <td>20</td>\n",
       "      <td>0.645260</td>\n",
       "    </tr>\n",
       "    <tr>\n",
       "      <th>86</th>\n",
       "      <td>50</td>\n",
       "      <td>adaptive</td>\n",
       "      <td>0.0001</td>\n",
       "      <td>adam</td>\n",
       "      <td>20</td>\n",
       "      <td>0.645260</td>\n",
       "    </tr>\n",
       "    <tr>\n",
       "      <th>140</th>\n",
       "      <td>100</td>\n",
       "      <td>adaptive</td>\n",
       "      <td>0.001</td>\n",
       "      <td>adam</td>\n",
       "      <td>20</td>\n",
       "      <td>0.645021</td>\n",
       "    </tr>\n",
       "    <tr>\n",
       "      <th>128</th>\n",
       "      <td>100</td>\n",
       "      <td>constant</td>\n",
       "      <td>0.001</td>\n",
       "      <td>adam</td>\n",
       "      <td>20</td>\n",
       "      <td>0.645021</td>\n",
       "    </tr>\n",
       "    <tr>\n",
       "      <th>98</th>\n",
       "      <td>80</td>\n",
       "      <td>constant</td>\n",
       "      <td>0.0001</td>\n",
       "      <td>adam</td>\n",
       "      <td>20</td>\n",
       "      <td>0.644357</td>\n",
       "    </tr>\n",
       "    <tr>\n",
       "      <th>110</th>\n",
       "      <td>80</td>\n",
       "      <td>adaptive</td>\n",
       "      <td>0.0001</td>\n",
       "      <td>adam</td>\n",
       "      <td>20</td>\n",
       "      <td>0.644357</td>\n",
       "    </tr>\n",
       "  </tbody>\n",
       "</table>\n",
       "</div>"
      ],
      "text/plain": [
       "    param_MLP__hidden_layer_sizes param_MLP__learning_rate  \\\n",
       "62                             25                 adaptive   \n",
       "50                             25                 constant   \n",
       "134                           100                 adaptive   \n",
       "122                           100                 constant   \n",
       "74                             50                 constant   \n",
       "86                             50                 adaptive   \n",
       "140                           100                 adaptive   \n",
       "128                           100                 constant   \n",
       "98                             80                 constant   \n",
       "110                            80                 adaptive   \n",
       "\n",
       "    param_MLP__learning_rate_init param_MLP__solver param_PCA__n_components  \\\n",
       "62                         0.0001              adam                      20   \n",
       "50                         0.0001              adam                      20   \n",
       "134                        0.0001              adam                      20   \n",
       "122                        0.0001              adam                      20   \n",
       "74                         0.0001              adam                      20   \n",
       "86                         0.0001              adam                      20   \n",
       "140                         0.001              adam                      20   \n",
       "128                         0.001              adam                      20   \n",
       "98                         0.0001              adam                      20   \n",
       "110                        0.0001              adam                      20   \n",
       "\n",
       "     mean_test_score  \n",
       "62          0.646815  \n",
       "50          0.646815  \n",
       "134         0.646344  \n",
       "122         0.646344  \n",
       "74          0.645260  \n",
       "86          0.645260  \n",
       "140         0.645021  \n",
       "128         0.645021  \n",
       "98          0.644357  \n",
       "110         0.644357  "
      ]
     },
     "execution_count": 48,
     "metadata": {},
     "output_type": "execute_result"
    }
   ],
   "source": [
    "GS3_results[['param_MLP__hidden_layer_sizes', 'param_MLP__learning_rate',\n",
    "       'param_MLP__learning_rate_init', 'param_MLP__solver',\n",
    "       'param_PCA__n_components',\n",
    "            'mean_test_score']].sort_values(by=['mean_test_score'], ascending = False).head(10)"
   ]
  },
  {
   "cell_type": "markdown",
   "metadata": {},
   "source": [
    "We can see among the 10 top models. All of top 10 models yield F1 score between 0.64, there are almost no difference between them with high parameter varaince, except PCA n_component, with 20 components"
   ]
  },
  {
   "cell_type": "code",
   "execution_count": 49,
   "metadata": {},
   "outputs": [
    {
     "data": {
      "image/png": "[encoded data removed]",
      "text/plain": [
       "<Figure size 432x288 with 1 Axes>"
      ]
     },
     "metadata": {
      "needs_background": "light"
     },
     "output_type": "display_data"
    }
   ],
   "source": [
    "sns.scatterplot(y = 'mean_test_score', x = 'param_PCA__n_components', data = GS3_results, hue = 'param_MLP__solver')\n",
    "plt.ylabel('Mean F1 Score')\n",
    "plt.xlabel('Dimensions')\n",
    "plt.title('F1 Score vs Dimensions')\n",
    "plt.show()"
   ]
  },
  {
   "cell_type": "markdown",
   "metadata": {},
   "source": [
    "From chart above, we conclude that in general, the model performs better with higher PCA dimension."
   ]
  },
  {
   "cell_type": "code",
   "execution_count": 50,
   "metadata": {},
   "outputs": [
    {
     "data": {
      "image/png": "[encoded data removed]",
      "text/plain": [
       "<Figure size 432x288 with 1 Axes>"
      ]
     },
     "metadata": {
      "needs_background": "light"
     },
     "output_type": "display_data"
    }
   ],
   "source": [
    "sns.scatterplot(y = 'mean_test_score', x = 'param_MLP__hidden_layer_sizes', data = GS3_results, hue = 'param_MLP__solver')\n",
    "plt.ylabel('Mean F1 Score')\n",
    "plt.xlabel('Number of Hidden Layer')\n",
    "plt.title('F1 Score vs Number of Hidden Layer')\n",
    "plt.show()"
   ]
  },
  {
   "cell_type": "markdown",
   "metadata": {},
   "source": [
    "The performance of the model varies accross number of hidden layer. From there we can conclude that the number of hidden layer does not affect the performance."
   ]
  },
  {
   "cell_type": "code",
   "execution_count": 51,
   "metadata": {},
   "outputs": [
    {
     "data": {
      "text/plain": [
       "{'MLP__hidden_layer_sizes': 25,\n",
       " 'MLP__learning_rate': 'constant',\n",
       " 'MLP__learning_rate_init': 0.0001,\n",
       " 'MLP__solver': 'adam',\n",
       " 'PCA__n_components': 20}"
      ]
     },
     "execution_count": 51,
     "metadata": {},
     "output_type": "execute_result"
    }
   ],
   "source": [
    "GS3.best_params_"
   ]
  },
  {
   "cell_type": "markdown",
   "metadata": {},
   "source": [
    "## Model Evaluation"
   ]
  },
  {
   "cell_type": "markdown",
   "metadata": {},
   "source": [
    "Now, we will see how the models perform against the test set. First, we fit the models, then test them and record the performance."
   ]
  },
  {
   "cell_type": "code",
   "execution_count": 52,
   "metadata": {},
   "outputs": [],
   "source": [
    "models = [['Logistic Regression', clone(GS1.best_estimator_)],\n",
    "        [ 'Random Forest', clone(GS2.best_estimator_)],\n",
    "        [ 'Multi-layer Perceptron', clone(GS3.best_estimator_)]]\n",
    "\n",
    "model_performance_matrix = []\n",
    "model_index = []\n",
    "i = 0\n",
    "for name, model in models:\n",
    "    model_index.append(name)\n",
    "    mod = model\n",
    "    mod.fit(X_train, y_train)\n",
    "    y_pred = mod.predict(X_test)\n",
    "    models[i].append(y_pred.tolist())\n",
    "    f1 = f1_score(y_test, y_pred)\n",
    "    precision = precision_score(y_test, y_pred)\n",
    "    recall = recall_score(y_test, y_pred)\n",
    "    accuracy = accuracy_score(y_test, y_pred)\n",
    "    model_performance_matrix.append([f1, precision, recall, accuracy])\n",
    "    del mod, f1, precision, recall, accuracy, y_pred\n",
    "    i+=1"
   ]
  },
  {
   "cell_type": "markdown",
   "metadata": {},
   "source": [
    "We will plot a confusion matrix."
   ]
  },
  {
   "cell_type": "code",
   "execution_count": 53,
   "metadata": {
    "scrolled": true
   },
   "outputs": [
    {
     "data": {
      "image/png": "[encoded data removed]",
      "text/plain": [
       "<Figure size 2160x720 with 7 Axes>"
      ]
     },
     "metadata": {
      "needs_background": "light"
     },
     "output_type": "display_data"
    }
   ],
   "source": [
    "import matplotlib.pyplot as plt\n",
    "plt.rcParams.update({'font.size': 15})\n",
    "fig, ax = plt.subplots(1,3, figsize=(30,10), sharex = True, sharey = True)\n",
    "fig.add_subplot(111, frameon=False)\n",
    "i = 0\n",
    "\n",
    "for name, model, results in models:\n",
    "    sns.heatmap(confusion_matrix(y_test, results)\n",
    "                , ax = ax[i], annot = True, fmt=\"d\")\n",
    "    ax[i].xaxis.set_ticklabels(['No', 'Yes'])\n",
    "    ax[i].yaxis.set_ticklabels(['No', 'Yes'])\n",
    "    ax[i].set_title(name)\n",
    "    i+=1\n",
    "\n",
    "plt.xlabel(\"True\")\n",
    "plt.ylabel(\"Predicted\")\n",
    "plt.show()"
   ]
  },
  {
   "cell_type": "markdown",
   "metadata": {},
   "source": [
    "Now we measure how each of the model performs. We use 4 metrics here, F1 Score, Precision, Recall, and Accuracy."
   ]
  },
  {
   "cell_type": "code",
   "execution_count": 54,
   "metadata": {},
   "outputs": [
    {
     "data": {
      "text/html": [
       "<div>\n",
       "<style scoped>\n",
       "    .dataframe tbody tr th:only-of-type {\n",
       "        vertical-align: middle;\n",
       "    }\n",
       "\n",
       "    .dataframe tbody tr th {\n",
       "        vertical-align: top;\n",
       "    }\n",
       "\n",
       "    .dataframe thead th {\n",
       "        text-align: right;\n",
       "    }\n",
       "</style>\n",
       "<table border=\"1\" class=\"dataframe\">\n",
       "  <thead>\n",
       "    <tr style=\"text-align: right;\">\n",
       "      <th></th>\n",
       "      <th>F1</th>\n",
       "      <th>Precision</th>\n",
       "      <th>Recall</th>\n",
       "      <th>Accuracy</th>\n",
       "    </tr>\n",
       "  </thead>\n",
       "  <tbody>\n",
       "    <tr>\n",
       "      <th>Logistic Regression</th>\n",
       "      <td>0.653409</td>\n",
       "      <td>0.716511</td>\n",
       "      <td>0.600522</td>\n",
       "      <td>0.69500</td>\n",
       "    </tr>\n",
       "    <tr>\n",
       "      <th>Random Forest</th>\n",
       "      <td>0.683983</td>\n",
       "      <td>0.764516</td>\n",
       "      <td>0.618799</td>\n",
       "      <td>0.72625</td>\n",
       "    </tr>\n",
       "    <tr>\n",
       "      <th>Multi-layer Perceptron</th>\n",
       "      <td>0.663366</td>\n",
       "      <td>0.723765</td>\n",
       "      <td>0.612272</td>\n",
       "      <td>0.70250</td>\n",
       "    </tr>\n",
       "  </tbody>\n",
       "</table>\n",
       "</div>"
      ],
      "text/plain": [
       "                              F1  Precision    Recall  Accuracy\n",
       "Logistic Regression     0.653409   0.716511  0.600522   0.69500\n",
       "Random Forest           0.683983   0.764516  0.618799   0.72625\n",
       "Multi-layer Perceptron  0.663366   0.723765  0.612272   0.70250"
      ]
     },
     "execution_count": 54,
     "metadata": {},
     "output_type": "execute_result"
    }
   ],
   "source": [
    "pd.DataFrame(model_performance_matrix, index=model_index, columns = ['F1', 'Precision', 'Recall', 'Accuracy'])"
   ]
  },
  {
   "cell_type": "markdown",
   "metadata": {},
   "source": [
    "We can see that ini general, the models have decent precision, all above 0.7 while having pretty low recall at around 0.6.\n",
    "Random forest outperformed the other models in every metrics here. Now we see the models' performance using area under the receiver operating characteristic (AUROC)."
   ]
  },
  {
   "cell_type": "code",
   "execution_count": 55,
   "metadata": {},
   "outputs": [
    {
     "data": {
      "image/png": "[encoded data removed]",
      "text/plain": [
       "<Figure size 432x288 with 1 Axes>"
      ]
     },
     "metadata": {
      "needs_background": "light"
     },
     "output_type": "display_data"
    },
    {
     "data": {
      "image/png": "[encoded data removed]",
      "text/plain": [
       "<Figure size 432x288 with 1 Axes>"
      ]
     },
     "metadata": {
      "needs_background": "light"
     },
     "output_type": "display_data"
    },
    {
     "data": {
      "image/png": "[encoded data removed]",
      "text/plain": [
       "<Figure size 432x288 with 1 Axes>"
      ]
     },
     "metadata": {
      "needs_background": "light"
     },
     "output_type": "display_data"
    }
   ],
   "source": [
    "i=0\n",
    "for name, model, results in models:\n",
    "    plot_roc_curve(model, X_train, y_train)\n",
    "    plt.title('Area Under ROC: {}'.format(name))\n",
    "    i+=1\n",
    "plt.show()"
   ]
  },
  {
   "cell_type": "markdown",
   "metadata": {},
   "source": [
    "The ROC curve show that Random Forest perform the best against the other models with the highest area under ROC Curve."
   ]
  },
  {
   "cell_type": "markdown",
   "metadata": {},
   "source": [
    "# Conclusion"
   ]
  },
  {
   "cell_type": "markdown",
   "metadata": {},
   "source": [
    "Predicting customers' decision to deposit for this problem is not easy, since the correlation between each variables and the target are not large. But with the right model preprocessing setup, clear pipeline, with using stratified method in splitting the train-test data and cross-validation, helped to make the models perform slightly better.\n",
    "In general, the model can help answer the business problem to identify which customer made the deposit after getting this particular marketing campaign."
   ]
  }
 ],
 "metadata": {
  "kernelspec": {
   "display_name": "Python 3",
   "language": "python",
   "name": "python3"
  },
  "language_info": {
   "codemirror_mode": {
    "name": "ipython",
    "version": 3
   },
   "file_extension": ".py",
   "mimetype": "text/x-python",
   "name": "python",
   "nbconvert_exporter": "python",
   "pygments_lexer": "ipython3",
   "version": "3.8.5"
  }
 },
 "nbformat": 4,
 "nbformat_minor": 4
}
